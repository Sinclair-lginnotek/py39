{
 "cells": [
  {
   "cell_type": "markdown",
   "metadata": {},
   "source": [
    "### 3.1 _If_ Statement\n",
    "The most well-known statement type is ```if``` statement."
   ]
  },
  {
   "cell_type": "code",
   "execution_count": null,
   "metadata": {},
   "outputs": [],
   "source": [
    "x = int(input(\"Please enter an integer: \"))\n",
    "if x < 0 :\n",
    "    x = 0\n",
    "    print('Negative changed to zero')\n",
    "elif x == 0:\n",
    "    print('Zero')\n",
    "elif x == 1:\n",
    "    print('Single')\n",
    "else:\n",
    "    print('More')"
   ]
  },
  {
   "cell_type": "markdown",
   "metadata": {},
   "source": [
    "Those ```if```, ```elif```, ```else``` sequence is a substitue of ```switch``` or ```case```"
   ]
  },
  {
   "cell_type": "markdown",
   "metadata": {},
   "source": [
    "### 3.1.1 Conditional if statement\n",
    "```if``` statement can be used as like below"
   ]
  },
  {
   "cell_type": "code",
   "execution_count": null,
   "metadata": {
    "scrolled": true
   },
   "outputs": [],
   "source": [
    "# Without conditional statement\n",
    "score = int(input(\"Enter score\"))\n",
    "if score >= 60:\n",
    "    message = \"success\"\n",
    "else:\n",
    "    message = \"failure\"\n",
    "print(message)\n",
    "\n",
    "# With conditional statement\n",
    "score = int(input(\"Enter score : \"))\n",
    "message = \"success\" if score >= 60 else \"failure\"\n",
    "print(message)"
   ]
  },
  {
   "cell_type": "markdown",
   "metadata": {},
   "source": [
    "### 3.2 _for_ Statement\n",
    "The ```for``` statement iterates over the items of any sequence (a list or a string), in order that they appear in the sequence. For example:"
   ]
  },
  {
   "cell_type": "code",
   "execution_count": 29,
   "metadata": {
    "scrolled": true
   },
   "outputs": [
    {
     "name": "stdout",
     "output_type": "stream",
     "text": [
      "cat 3\n",
      "window 6\n",
      "defenestate 11\n",
      "3\n",
      "7\n",
      "11\n"
     ]
    }
   ],
   "source": [
    "# Measure some strings:\n",
    "words = ['cat', 'window', 'defenestate']\n",
    "for w in words:\n",
    "    print(w,len(w))\n",
    "\n",
    "# Another example\n",
    "a = [(1,2),(3,4),(5,6)]\n",
    "for (first, last) in a:\n",
    "    print(first + last)"
   ]
  },
  {
   "cell_type": "markdown",
   "metadata": {},
   "source": [
    "Code that modifies a collection while iterating over that same collection can be tricky to get right. Instead, it is usually more straight-forward to loop over a copy of the collection or to create a new collection:"
   ]
  },
  {
   "cell_type": "code",
   "execution_count": null,
   "metadata": {
    "scrolled": true
   },
   "outputs": [],
   "source": [
    "# Strategy: Iterate over a copy\n",
    "for user, status in user.copy().items():\n",
    "    if status == 'inactive':\n",
    "        del users[user]\n",
    "\n",
    "# Strategy: Create a new collection\n",
    "active_users = {}\n",
    "for user, status in users.items():\n",
    "    if status == 'active':\n",
    "        active_users[user] = status"
   ]
  },
  {
   "cell_type": "code",
   "execution_count": 13,
   "metadata": {
    "scrolled": true
   },
   "outputs": [
    {
     "name": "stdout",
     "output_type": "stream",
     "text": [
      "2 4 6 8 10 12 14 16 18 \n",
      "3 6 9 12 15 18 21 24 27 \n",
      "4 8 12 16 20 24 28 32 36 \n",
      "5 10 15 20 25 30 35 40 45 \n",
      "6 12 18 24 30 36 42 48 54 \n",
      "7 14 21 28 35 42 49 56 63 \n",
      "8 16 24 32 40 48 56 64 72 \n",
      "9 18 27 36 45 54 63 72 81 \n"
     ]
    }
   ],
   "source": [
    "for i in range(2,10):\n",
    "    for j in range(1,10):\n",
    "        print(i*j, end=\" \") # end=\" \" for gap between values\n",
    "    print('') # print('') for \\n"
   ]
  },
  {
   "cell_type": "markdown",
   "metadata": {},
   "source": [
    "### 3.2.1 List Comprehension"
   ]
  },
  {
   "cell_type": "code",
   "execution_count": 28,
   "metadata": {},
   "outputs": [
    {
     "name": "stdout",
     "output_type": "stream",
     "text": [
      "[3, 6, 9, 12]\n",
      "[3, 6, 9, 12]\n",
      "[6, 12]\n"
     ]
    }
   ],
   "source": [
    "# Without list comprehension\n",
    "a= [1,2,3,4]\n",
    "result1 = []\n",
    "for num in a:\n",
    "    result1.append(num*3)\n",
    "print(result1)\n",
    "\n",
    "# With list comprehension\n",
    "a= [1,2,3,4]\n",
    "result2 = [num*3 for num in a]\n",
    "print(result2)\n",
    "\n",
    "# Another example\n",
    "a = [1,2,3,4]\n",
    "result3 = [num*3 for num in a if num%2==0]\n",
    "print(result3)"
   ]
  },
  {
   "cell_type": "markdown",
   "metadata": {},
   "source": [
    "### 3.3 The ```range()``` Function\n",
    "If you do need to iterate over a sequence of numbers, the built-in function ```range``` comes in handy. It generates arithmetic progressions:"
   ]
  },
  {
   "cell_type": "markdown",
   "metadata": {},
   "source": [
    "The given end point is never part of the generated sequence; ```range(10)``` generates 10 values starting from 0. It is also possible to count numbers from specified point, or even negative values; this is called 'step'"
   ]
  },
  {
   "cell_type": "code",
   "execution_count": null,
   "metadata": {
    "scrolled": true
   },
   "outputs": [],
   "source": [
    "# 1\n",
    "for i in range(5, 10):\n",
    "    print(i)\n",
    "\n",
    "# 2\n",
    "for i in range(0,10,3):\n",
    "    print(i)\n",
    "\n",
    "# 3\n",
    "for i in range(-10,-100,-30):\n",
    "    print(i)"
   ]
  },
  {
   "cell_type": "markdown",
   "metadata": {},
   "source": [
    "To iterate over the indices of a sequence, you can combine ```range()``` and ```len()``` as follows:"
   ]
  },
  {
   "cell_type": "code",
   "execution_count": null,
   "metadata": {
    "scrolled": true
   },
   "outputs": [],
   "source": [
    "a = ['Mary', 'had', 'a', 'little', 'lamb']\n",
    "for i in range(len(a)):\n",
    "    print(i, a[i])"
   ]
  },
  {
   "cell_type": "markdown",
   "metadata": {},
   "source": [
    "With the combination of ```range()``` and ```len()```, it is possible to get all list members, even though we \n",
    "don't know the numbers of list's total member quantity. However, in most cases, it's pretty much easier to use ```enumerate()``` function than using the combination of ```range()``` and ```len()``` function"
   ]
  },
  {
   "cell_type": "code",
   "execution_count": null,
   "metadata": {
    "scrolled": true
   },
   "outputs": [],
   "source": [
    "print(range(10))"
   ]
  },
  {
   "cell_type": "markdown",
   "metadata": {},
   "source": [
    "```range()``` function seems like list, but actually it isn't. It is an object which returns the successive items of the desired sequence when you iterate over it, but it doesn't really make the list, thus saving space"
   ]
  },
  {
   "cell_type": "markdown",
   "metadata": {},
   "source": [
    "we say such an object is _iterable_ "
   ]
  },
  {
   "cell_type": "code",
   "execution_count": null,
   "metadata": {
    "scrolled": true
   },
   "outputs": [],
   "source": [
    "# 1\n",
    "sum(range(4)) # 0 + 1 + 2 + 3\n",
    "\n",
    "# 2\n",
    "list(range(4))"
   ]
  },
  {
   "cell_type": "markdown",
   "metadata": {},
   "source": [
    "Those ```range()``` function can be switched into ```list``` as below:"
   ]
  },
  {
   "cell_type": "markdown",
   "metadata": {},
   "source": [
    "### 3.4 _break_ and _continue_ Statements and _else_ Clauses on Loops\n",
    "The ```break``` statement, like in C, breaks out of the innermost enclosing ```for``` or ```while``` loop"
   ]
  },
  {
   "cell_type": "code",
   "execution_count": null,
   "metadata": {
    "scrolled": true
   },
   "outputs": [],
   "source": [
    "for n in range(2,10):\n",
    "    for x in range(2,n):\n",
    "        if n % x == 0:\n",
    "            print(n, 'equals', x, '*', n//x)\n",
    "            break\n",
    "    else:\n",
    "         # Loop fell through without finding a factor\n",
    "        print(n, 'is a priome number')"
   ]
  },
  {
   "cell_type": "markdown",
   "metadata": {},
   "source": [
    "The ```continue``` statement, also borrowed from C, continues with the next iteration of the loop:"
   ]
  },
  {
   "cell_type": "code",
   "execution_count": null,
   "metadata": {
    "scrolled": true
   },
   "outputs": [],
   "source": [
    "for num in range(2,10):\n",
    "    if num % 2 ==0:\n",
    "        print(\"Found and even number\", num)\n",
    "        continue\n",
    "    print(\"Found and oddn number\", num)"
   ]
  },
  {
   "cell_type": "markdown",
   "metadata": {},
   "source": [
    "### 3.5 _pass_ Statements\n",
    "The pass statement does nothing. It can be used when a statement is required syntactically but the program requieres no action. Fro example:"
   ]
  },
  {
   "cell_type": "code",
   "execution_count": null,
   "metadata": {
    "scrolled": true
   },
   "outputs": [],
   "source": [
    "while True:\n",
    "    pass # Busy-wait for keyboard interrupt (Ctrl + C)"
   ]
  },
  {
   "cell_type": "markdown",
   "metadata": {},
   "source": [
    "This is commonly used for creating minimal ```classes```"
   ]
  },
  {
   "cell_type": "code",
   "execution_count": null,
   "metadata": {
    "scrolled": true
   },
   "outputs": [],
   "source": [
    "class MyEmptyClass:\n",
    "    pass"
   ]
  },
  {
   "cell_type": "markdown",
   "metadata": {},
   "source": [
    "Another place pass can be used is as a place-holder for a function or conditional body when you are working on new code, allowing you to keep thinking at a more abstract level. The ```pass``` is silently ignored."
   ]
  },
  {
   "cell_type": "code",
   "execution_count": null,
   "metadata": {
    "scrolled": true
   },
   "outputs": [],
   "source": [
    "def initlog(*args):\n",
    "    pass # Remeber to implement this!"
   ]
  },
  {
   "cell_type": "markdown",
   "metadata": {},
   "source": [
    "### ** _While_ Statement\n",
    "Loop statement which is used at cycle."
   ]
  },
  {
   "cell_type": "code",
   "execution_count": null,
   "metadata": {
    "scrolled": false
   },
   "outputs": [],
   "source": [
    "treeHit = 0\n",
    "while treeHit < 10:\n",
    "    treeHit = treeHit +1\n",
    "    print(\"나무를 %d번 찍었습니다.\" %treeHit)\n",
    "    if treeHit == 10:\n",
    "        print(\"나무 넘어갑니다.\")"
   ]
  },
  {
   "cell_type": "markdown",
   "metadata": {},
   "source": [
    "```while``` statement example :"
   ]
  },
  {
   "cell_type": "code",
   "execution_count": null,
   "metadata": {},
   "outputs": [],
   "source": [
    "# while\n",
    "prompt = '''\n",
    "1. Add\n",
    "2. Del\n",
    "3. List\n",
    "4. Quit\n",
    "\n",
    "Enter number : '''\n",
    "number = 0W\n",
    "while number != 4:\n",
    "    print(prompt)\n",
    "    number = int(input())\n",
    "    \n",
    "# break\n",
    "coffee = 10\n",
    "money = 300\n",
    "while money:\n",
    "    print(\"돈을 받았으니 커피를 줍니다.\")\n",
    "    coffee -= 1\n",
    "    print(\"남은 커피의 양은 %d개입니다.\" %coffee)\n",
    "    if coffee == 0:\n",
    "        print(\"커피가 다 떨어졌습니다. 판매를 중지합니다.\")\n",
    "        break\n",
    "\n",
    "# break 2\n",
    "coffee = 10\n",
    "while True:\n",
    "    money = int(input(\"돈을 넣어 주세요: \"))\n",
    "    if money == 300:\n",
    "        print(\"커피를 줍니다.\")\n",
    "        coffee = coffee -1\n",
    "    elif money > 300:\n",
    "        print(\"거스름돈 %d를 주고 커피를 줍니다.\" % (money -300))\n",
    "        coffee = coffee -1\n",
    "    else:\n",
    "        print(\"돈을 다시 돌려주고 커피를 주지 않습니다.\")\n",
    "        print(\"남은 커피의 양은 %d개 입니다.\" % coffee)\n",
    "    if coffee == 0:\n",
    "        print(\"커피가 다 떨어졌습니다. 판매를 중지 합니다.\")\n",
    "        break\n",
    "\n",
    "# continue\n",
    "a = 0\n",
    "while a < 10:\n",
    "    a = a + 1\n",
    "    if a % 2 == 0: continue\n",
    "    print(a)"
   ]
  },
  {
   "cell_type": "markdown",
   "metadata": {},
   "source": [
    "### **Infinite loop"
   ]
  },
  {
   "cell_type": "code",
   "execution_count": null,
   "metadata": {},
   "outputs": [],
   "source": [
    "while True:\n",
    "    print(\"Ctrl+C를 눌러야 while문을 빠져나갈 수 있습니다.\")"
   ]
  },
  {
   "cell_type": "markdown",
   "metadata": {},
   "source": [
    "### **연습문제"
   ]
  },
  {
   "cell_type": "code",
   "execution_count": 3,
   "metadata": {},
   "outputs": [
    {
     "name": "stdout",
     "output_type": "stream",
     "text": [
      "shirt\n"
     ]
    }
   ],
   "source": [
    "# Q1\n",
    "a = \"Life is too short, you need python\"\n",
    "\n",
    "if \"wife\" in a: print(\"wife\")\n",
    "elif \"python\" in a and \"you\" not in a: print(\"python\")\n",
    "elif \"shirt\" not in a: print(\"shirt\")\n",
    "elif \"need\" in a: print(\"need\")\n",
    "else: print(\"none\")"
   ]
  },
  {
   "cell_type": "code",
   "execution_count": 9,
   "metadata": {},
   "outputs": [
    {
     "name": "stdout",
     "output_type": "stream",
     "text": [
      "sum is : 3 \n",
      "sum is : 9 \n",
      "sum is : 18 \n",
      "sum is : 30 \n",
      "sum is : 45 \n",
      "sum is : 63 \n",
      "sum is : 84 \n",
      "sum is : 108 \n",
      "sum is : 135 \n",
      "sum is : 165 \n",
      "sum is : 198 \n",
      "sum is : 234 \n",
      "sum is : 273 \n",
      "sum is : 315 \n",
      "sum is : 360 \n",
      "sum is : 408 \n",
      "sum is : 459 \n",
      "sum is : 513 \n",
      "sum is : 570 \n",
      "sum is : 630 \n",
      "sum is : 693 \n",
      "sum is : 759 \n",
      "sum is : 828 \n",
      "sum is : 900 \n",
      "sum is : 975 \n",
      "sum is : 1053 \n",
      "sum is : 1134 \n",
      "sum is : 1218 \n",
      "sum is : 1305 \n",
      "sum is : 1395 \n",
      "sum is : 1488 \n",
      "sum is : 1584 \n",
      "sum is : 1683 \n",
      "sum is : 1785 \n",
      "sum is : 1890 \n",
      "sum is : 1998 \n",
      "sum is : 2109 \n",
      "sum is : 2223 \n",
      "sum is : 2340 \n",
      "sum is : 2460 \n",
      "sum is : 2583 \n",
      "sum is : 2709 \n",
      "sum is : 2838 \n",
      "sum is : 2970 \n",
      "sum is : 3105 \n",
      "sum is : 3243 \n",
      "sum is : 3384 \n",
      "sum is : 3528 \n",
      "sum is : 3675 \n",
      "sum is : 3825 \n",
      "sum is : 3978 \n",
      "sum is : 4134 \n",
      "sum is : 4293 \n",
      "sum is : 4455 \n",
      "sum is : 4620 \n",
      "sum is : 4788 \n",
      "sum is : 4959 \n",
      "sum is : 5133 \n",
      "sum is : 5310 \n",
      "sum is : 5490 \n",
      "sum is : 5673 \n",
      "sum is : 5859 \n",
      "sum is : 6048 \n",
      "sum is : 6240 \n",
      "sum is : 6435 \n",
      "sum is : 6633 \n",
      "sum is : 6834 \n",
      "sum is : 7038 \n",
      "sum is : 7245 \n",
      "sum is : 7455 \n",
      "sum is : 7668 \n",
      "sum is : 7884 \n",
      "sum is : 8103 \n",
      "sum is : 8325 \n",
      "sum is : 8550 \n",
      "sum is : 8778 \n",
      "sum is : 9009 \n",
      "sum is : 9243 \n",
      "sum is : 9480 \n",
      "sum is : 9720 \n",
      "sum is : 9963 \n",
      "sum is : 10209 \n",
      "sum is : 10458 \n",
      "sum is : 10710 \n",
      "sum is : 10965 \n",
      "sum is : 11223 \n",
      "sum is : 11484 \n",
      "sum is : 11748 \n",
      "sum is : 12015 \n",
      "sum is : 12285 \n",
      "sum is : 12558 \n",
      "sum is : 12834 \n",
      "sum is : 13113 \n",
      "sum is : 13395 \n",
      "sum is : 13680 \n",
      "sum is : 13968 \n",
      "sum is : 14259 \n",
      "sum is : 14553 \n",
      "sum is : 14850 \n",
      "sum is : 15150 \n",
      "sum is : 15453 \n",
      "sum is : 15759 \n",
      "sum is : 16068 \n",
      "sum is : 16380 \n",
      "sum is : 16695 \n",
      "sum is : 17013 \n",
      "sum is : 17334 \n",
      "sum is : 17658 \n",
      "sum is : 17985 \n",
      "sum is : 18315 \n",
      "sum is : 18648 \n",
      "sum is : 18984 \n",
      "sum is : 19323 \n",
      "sum is : 19665 \n",
      "sum is : 20010 \n",
      "sum is : 20358 \n",
      "sum is : 20709 \n",
      "sum is : 21063 \n",
      "sum is : 21420 \n",
      "sum is : 21780 \n",
      "sum is : 22143 \n",
      "sum is : 22509 \n",
      "sum is : 22878 \n",
      "sum is : 23250 \n",
      "sum is : 23625 \n",
      "sum is : 24003 \n",
      "sum is : 24384 \n",
      "sum is : 24768 \n",
      "sum is : 25155 \n",
      "sum is : 25545 \n",
      "sum is : 25938 \n",
      "sum is : 26334 \n",
      "sum is : 26733 \n",
      "sum is : 27135 \n",
      "sum is : 27540 \n",
      "sum is : 27948 \n",
      "sum is : 28359 \n",
      "sum is : 28773 \n",
      "sum is : 29190 \n",
      "sum is : 29610 \n",
      "sum is : 30033 \n",
      "sum is : 30459 \n",
      "sum is : 30888 \n",
      "sum is : 31320 \n",
      "sum is : 31755 \n",
      "sum is : 32193 \n",
      "sum is : 32634 \n",
      "sum is : 33078 \n",
      "sum is : 33525 \n",
      "sum is : 33975 \n",
      "sum is : 34428 \n",
      "sum is : 34884 \n",
      "sum is : 35343 \n",
      "sum is : 35805 \n",
      "sum is : 36270 \n",
      "sum is : 36738 \n",
      "sum is : 37209 \n",
      "sum is : 37683 \n",
      "sum is : 38160 \n",
      "sum is : 38640 \n",
      "sum is : 39123 \n",
      "sum is : 39609 \n",
      "sum is : 40098 \n",
      "sum is : 40590 \n",
      "sum is : 41085 \n",
      "sum is : 41583 \n",
      "sum is : 42084 \n",
      "sum is : 42588 \n",
      "sum is : 43095 \n",
      "sum is : 43605 \n",
      "sum is : 44118 \n",
      "sum is : 44634 \n",
      "sum is : 45153 \n",
      "sum is : 45675 \n",
      "sum is : 46200 \n",
      "sum is : 46728 \n",
      "sum is : 47259 \n",
      "sum is : 47793 \n",
      "sum is : 48330 \n",
      "sum is : 48870 \n",
      "sum is : 49413 \n",
      "sum is : 49959 \n",
      "sum is : 50508 \n",
      "sum is : 51060 \n",
      "sum is : 51615 \n",
      "sum is : 52173 \n",
      "sum is : 52734 \n",
      "sum is : 53298 \n",
      "sum is : 53865 \n",
      "sum is : 54435 \n",
      "sum is : 55008 \n",
      "sum is : 55584 \n",
      "sum is : 56163 \n",
      "sum is : 56745 \n",
      "sum is : 57330 \n",
      "sum is : 57918 \n",
      "sum is : 58509 \n",
      "sum is : 59103 \n",
      "sum is : 59700 \n",
      "sum is : 60300 \n",
      "sum is : 60903 \n",
      "sum is : 61509 \n",
      "sum is : 62118 \n",
      "sum is : 62730 \n",
      "sum is : 63345 \n",
      "sum is : 63963 \n",
      "sum is : 64584 \n",
      "sum is : 65208 \n",
      "sum is : 65835 \n",
      "sum is : 66465 \n",
      "sum is : 67098 \n",
      "sum is : 67734 \n",
      "sum is : 68373 \n",
      "sum is : 69015 \n",
      "sum is : 69660 \n",
      "sum is : 70308 \n",
      "sum is : 70959 \n",
      "sum is : 71613 \n",
      "sum is : 72270 \n",
      "sum is : 72930 \n",
      "sum is : 73593 \n",
      "sum is : 74259 \n",
      "sum is : 74928 \n",
      "sum is : 75600 \n",
      "sum is : 76275 \n",
      "sum is : 76953 \n",
      "sum is : 77634 \n",
      "sum is : 78318 \n",
      "sum is : 79005 \n",
      "sum is : 79695 \n",
      "sum is : 80388 \n",
      "sum is : 81084 \n",
      "sum is : 81783 \n",
      "sum is : 82485 \n",
      "sum is : 83190 \n",
      "sum is : 83898 \n",
      "sum is : 84609 \n",
      "sum is : 85323 \n",
      "sum is : 86040 \n",
      "sum is : 86760 \n",
      "sum is : 87483 \n",
      "sum is : 88209 \n",
      "sum is : 88938 \n",
      "sum is : 89670 \n",
      "sum is : 90405 \n",
      "sum is : 91143 \n",
      "sum is : 91884 \n",
      "sum is : 92628 \n",
      "sum is : 93375 \n",
      "sum is : 94125 \n",
      "sum is : 94878 \n",
      "sum is : 95634 \n",
      "sum is : 96393 \n",
      "sum is : 97155 \n",
      "sum is : 97920 \n",
      "sum is : 98688 \n",
      "sum is : 99459 \n",
      "sum is : 100233 \n",
      "sum is : 101010 \n",
      "sum is : 101790 \n",
      "sum is : 102573 \n",
      "sum is : 103359 \n",
      "sum is : 104148 \n",
      "sum is : 104940 \n",
      "sum is : 105735 \n",
      "sum is : 106533 \n",
      "sum is : 107334 \n",
      "sum is : 108138 \n",
      "sum is : 108945 \n",
      "sum is : 109755 \n",
      "sum is : 110568 \n",
      "sum is : 111384 \n",
      "sum is : 112203 \n",
      "sum is : 113025 \n",
      "sum is : 113850 \n",
      "sum is : 114678 \n",
      "sum is : 115509 \n",
      "sum is : 116343 \n",
      "sum is : 117180 \n",
      "sum is : 118020 \n",
      "sum is : 118863 \n",
      "sum is : 119709 \n",
      "sum is : 120558 \n",
      "sum is : 121410 \n",
      "sum is : 122265 \n",
      "sum is : 123123 \n",
      "sum is : 123984 \n",
      "sum is : 124848 \n",
      "sum is : 125715 \n",
      "sum is : 126585 \n",
      "sum is : 127458 \n",
      "sum is : 128334 \n",
      "sum is : 129213 \n",
      "sum is : 130095 \n",
      "sum is : 130980 \n",
      "sum is : 131868 \n",
      "sum is : 132759 \n",
      "sum is : 133653 \n",
      "sum is : 134550 \n",
      "sum is : 135450 \n",
      "sum is : 136353 \n",
      "sum is : 137259 \n",
      "sum is : 138168 \n",
      "sum is : 139080 \n",
      "sum is : 139995 \n",
      "sum is : 140913 \n",
      "sum is : 141834 \n",
      "sum is : 142758 \n",
      "sum is : 143685 \n",
      "sum is : 144615 \n",
      "sum is : 145548 \n",
      "sum is : 146484 \n",
      "sum is : 147423 \n",
      "sum is : 148365 \n",
      "sum is : 149310 \n",
      "sum is : 150258 \n",
      "sum is : 151209 \n",
      "sum is : 152163 \n",
      "sum is : 153120 \n",
      "sum is : 154080 \n",
      "sum is : 155043 \n",
      "sum is : 156009 \n",
      "sum is : 156978 \n",
      "sum is : 157950 \n",
      "sum is : 158925 \n",
      "sum is : 159903 \n",
      "sum is : 160884 \n",
      "sum is : 161868 \n",
      "sum is : 162855 \n",
      "sum is : 163845 \n",
      "sum is : 164838 \n",
      "sum is : 165834 \n",
      "sum is : 166833 \n",
      "total sum is : 166833\n"
     ]
    }
   ],
   "source": [
    "# Q2\n",
    "sum = 0\n",
    "number = 1\n",
    "while number <= 1000:\n",
    "    if number % 3 == 0:\n",
    "        sum = sum + number\n",
    "        print(\"sum is : %d \" % sum)\n",
    "    number += 1\n",
    "print(\"total sum is : %d\" % sum)"
   ]
  },
  {
   "cell_type": "code",
   "execution_count": 1,
   "metadata": {},
   "outputs": [
    {
     "name": "stdout",
     "output_type": "stream",
     "text": [
      "*\n",
      "**\n",
      "***\n",
      "****\n",
      "*****\n"
     ]
    }
   ],
   "source": [
    "# Q3\n",
    "n = 1\n",
    "while n < 6:\n",
    "    print(\"*\" * n)\n",
    "    n += 1"
   ]
  },
  {
   "cell_type": "code",
   "execution_count": 2,
   "metadata": {},
   "outputs": [
    {
     "name": "stdout",
     "output_type": "stream",
     "text": [
      "1\n",
      "2\n",
      "3\n",
      "4\n",
      "5\n",
      "6\n",
      "7\n",
      "8\n",
      "9\n",
      "10\n",
      "11\n",
      "12\n",
      "13\n",
      "14\n",
      "15\n",
      "16\n",
      "17\n",
      "18\n",
      "19\n",
      "20\n",
      "21\n",
      "22\n",
      "23\n",
      "24\n",
      "25\n",
      "26\n",
      "27\n",
      "28\n",
      "29\n",
      "30\n",
      "31\n",
      "32\n",
      "33\n",
      "34\n",
      "35\n",
      "36\n",
      "37\n",
      "38\n",
      "39\n",
      "40\n",
      "41\n",
      "42\n",
      "43\n",
      "44\n",
      "45\n",
      "46\n",
      "47\n",
      "48\n",
      "49\n",
      "50\n",
      "51\n",
      "52\n",
      "53\n",
      "54\n",
      "55\n",
      "56\n",
      "57\n",
      "58\n",
      "59\n",
      "60\n",
      "61\n",
      "62\n",
      "63\n",
      "64\n",
      "65\n",
      "66\n",
      "67\n",
      "68\n",
      "69\n",
      "70\n",
      "71\n",
      "72\n",
      "73\n",
      "74\n",
      "75\n",
      "76\n",
      "77\n",
      "78\n",
      "79\n",
      "80\n",
      "81\n",
      "82\n",
      "83\n",
      "84\n",
      "85\n",
      "86\n",
      "87\n",
      "88\n",
      "89\n",
      "90\n",
      "91\n",
      "92\n",
      "93\n",
      "94\n",
      "95\n",
      "96\n",
      "97\n",
      "98\n",
      "99\n",
      "100\n"
     ]
    }
   ],
   "source": [
    "# Q4\n",
    "for n in range(1,101):\n",
    "    print(n)"
   ]
  },
  {
   "cell_type": "code",
   "execution_count": 5,
   "metadata": {},
   "outputs": [
    {
     "name": "stdout",
     "output_type": "stream",
     "text": [
      "79.0\n"
     ]
    }
   ],
   "source": [
    "# Q5\n",
    "\n",
    "sum = 0\n",
    "score = [ 70, 60, 55, 75, 95, 90, 80, 80, 85, 100]\n",
    "for i in score:\n",
    "    sum += i \n",
    "print(sum/len(score))"
   ]
  },
  {
   "cell_type": "code",
   "execution_count": 5,
   "metadata": {},
   "outputs": [
    {
     "name": "stdout",
     "output_type": "stream",
     "text": [
      "[2, 6, 10]\n",
      "**************************************************\n",
      "[2, 6, 10]\n"
     ]
    }
   ],
   "source": [
    "# Q6\n",
    "\n",
    "# without list comprehension\n",
    "numbers = [1,2,3,4,5]\n",
    "result = []\n",
    "for n in numbers:\n",
    "    if n % 2 ==1:\n",
    "        result.append(n*2)\n",
    "print(result)\n",
    "print(\"*\" * 50)\n",
    "\n",
    "# with list comprehension\n",
    "numbers2 = [1,2,3,4,5]\n",
    "result2 = [n*2 for n in numbers2 if n%2 ==1]\n",
    "print(result2)"
   ]
  },
  {
   "cell_type": "code",
   "execution_count": null,
   "metadata": {},
   "outputs": [],
   "source": []
  }
 ],
 "metadata": {
  "kernelspec": {
   "display_name": "Python 3",
   "language": "python",
   "name": "python3"
  },
  "language_info": {
   "codemirror_mode": {
    "name": "ipython",
    "version": 3
   },
   "file_extension": ".py",
   "mimetype": "text/x-python",
   "name": "python",
   "nbconvert_exporter": "python",
   "pygments_lexer": "ipython3",
   "version": "3.8.5"
  }
 },
 "nbformat": 4,
 "nbformat_minor": 4
}
