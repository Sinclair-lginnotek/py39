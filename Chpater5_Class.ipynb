{
 "cells": [
  {
   "cell_type": "markdown",
   "metadata": {},
   "source": [
    "# ___05-1 Class___"
   ]
  },
  {
   "cell_type": "code",
   "execution_count": 12,
   "metadata": {},
   "outputs": [],
   "source": [
    "# without class\n",
    "result1 = 0\n",
    "result2 = 0\n",
    "\n",
    "def add1(num):\n",
    "    global result1\n",
    "    result1 += num\n",
    "    return result1\n",
    "\n",
    "def add2(num):\n",
    "    global result2\n",
    "    result2 += num\n",
    "    return result2\n",
    "\n",
    "# with class\n",
    "class Calculator:\n",
    "    def __init__(self):\n",
    "        self.result = 0\n",
    "\n",
    "    def add(self, num):\n",
    "        self.result += num\n",
    "        return self.result\n",
    "\n",
    "# 클래스는 객체를 생성한다.\n",
    "class cookie:\n",
    "    pass\n",
    "\n",
    "a = cookie() \n",
    "b = cookie() \n",
    "\n",
    "# class Fourcal \n",
    "class FourCal : # 클래스 안에 든 함수는 메서드(Method), \n",
    "    def setdata(self,first,second): # 첫번째 매개변수로 self를 사용하는것은 일종의 관례\n",
    "        self.first = first # 객체를 통해 메서드를 호출하려면 도트(.) 연산자를 사용해야 한다.\n",
    "        self.second = second\n",
    "\n",
    "# method 호출 방법1; 매개변수를 통해 직접 호출\n",
    "a = FourCal()\n",
    "a.setdata(4,2)\n",
    "\n",
    "# method 호출 방법2; 클래스를 통해 호출\n",
    "a = FourCal()\n",
    "FourCal.setdata(a,4,2)\n",
    "\n",
    "# method 수행\n",
    "a = FourCal()\n",
    "b = FourCal()\n",
    "a.setdata(4,2) # a.first = 4, a.second = 2 , 두 변수의 id는 고유값을 가진다.\n",
    "b.setdata(3,7) # b.first = 3, b.first = 7, 물론 매개변수도 다르면 당연히 id도 다르다.\n",
    "\n",
    "# add method 추가\n",
    "\n",
    "# class statement\n",
    "class FourCal:\n",
    "    def setdata(self,first,second):\n",
    "        self.first = first\n",
    "        self.second = second\n",
    "    def add(self):\n",
    "        result = self.first + self.second\n",
    "        return result\n",
    "\n",
    "# recall method\n",
    "a = FourCal()\n",
    "a.setdata(4,2)\n",
    "a.add() #a.add = 6 method 실현\n",
    "\n",
    "# FourCal class statement\n",
    "class FourCal:\n",
    "    def setdata(self,first,second):\n",
    "        self.first = first\n",
    "        self.second = second\n",
    "    def add(self):\n",
    "        result = self.first + self.second\n",
    "        return result\n",
    "    def mul(self):\n",
    "        result = self.first * self.second\n",
    "        return result\n",
    "    def sub(self):\n",
    "        reuslt = self.first - self.second\n",
    "        return result\n",
    "    def div(self):\n",
    "        result = self.first / self.second\n",
    "        return result\n"
   ]
  },
  {
   "cell_type": "markdown",
   "metadata": {},
   "source": [
    "### ___Construtor___"
   ]
  },
  {
   "cell_type": "code",
   "execution_count": 14,
   "metadata": {},
   "outputs": [
    {
     "data": {
      "text/plain": [
       "6"
      ]
     },
     "execution_count": 14,
     "metadata": {},
     "output_type": "execute_result"
    }
   ],
   "source": [
    "# 객체변수 미 지정시\n",
    "a = FourCal()\n",
    "a.add # error 발생, setdata 메서드를 수행하여 객체변수 first와 second를 형성하지 않았기 때문\n",
    "\n",
    "# add constructor\n",
    "class FourCal:\n",
    "    def __init__(self,first,second): # setdata 메서드와 동일하지만, __init__이라는 이름을 사용하므로 \n",
    "        self.first = first           # self에 객체가 자동으로 전달된다.\n",
    "        self. second = second\n",
    "    def setdata(self,first,second):\n",
    "        self.frist = first\n",
    "        self.second = second\n",
    "    def add(self):\n",
    "        result = self.first + self.second\n",
    "        return result\n",
    "    def mul(self):\n",
    "        result = self.first * self.second\n",
    "        return result\n",
    "    def sub(self):\n",
    "        result = self.first - self.second\n",
    "        return result\n",
    "    def div(self):\n",
    "        result = self.first / self.second\n",
    "        return result"
   ]
  },
  {
   "cell_type": "markdown",
   "metadata": {},
   "source": [
    "### ___Class inheritance___"
   ]
  },
  {
   "cell_type": "code",
   "execution_count": 21,
   "metadata": {},
   "outputs": [],
   "source": [
    "# class inheritance\n",
    "class MoreFourCal(FourCal): # 상속받은 class는 포함하는 class 매서드를 모두 사용할 수 있다.\n",
    "    pass                    # 기존 클래스에 추가하거나 수정하여 사용하지 않고 상속하는 이유는 \n",
    "                            # 라이브러리 또는 수정불가능한 형태의 매서드 떄문\n",
    "\n",
    "# method update\n",
    "class MoreFourCal(FourCal):\n",
    "    def pow(self):\n",
    "        result = self.first ** self.second\n",
    "        return result\n",
    "\n",
    "# method overriding\n",
    "class SafeFourCal(FourCal):\n",
    "    def div(self):\n",
    "        if self.second == 0:\n",
    "            return 0\n",
    "        else:\n",
    "            return self.first / self.second"
   ]
  },
  {
   "cell_type": "markdown",
   "metadata": {},
   "source": [
    "### ___Class Variable___"
   ]
  },
  {
   "cell_type": "code",
   "execution_count": 26,
   "metadata": {},
   "outputs": [
    {
     "name": "stdout",
     "output_type": "stream",
     "text": [
      "1865405845376\n",
      "1865405845376\n",
      "1865405845376\n"
     ]
    }
   ],
   "source": [
    "class Family:\n",
    "    lastname = \"김\"\n",
    "\n",
    "a = Family()\n",
    "a.lastname\n",
    "b = Family()\n",
    "b.lastname\n",
    "    \n",
    "print(id(Family.lastname))\n",
    "print(id(a.lastname))\n",
    "print(id(b.lastname))"
   ]
  },
  {
   "cell_type": "markdown",
   "metadata": {},
   "source": [
    "# ___05-2 Module___"
   ]
  },
  {
   "cell_type": "code",
   "execution_count": null,
   "metadata": {},
   "outputs": [],
   "source": [
    "# mod1.py\n",
    "def add(a,b):\n",
    "    return a+b\n",
    "\n",
    "def sub(a,b):\n",
    "    return a-b\n",
    "\n",
    "# usage1\n",
    "# import mod1\n",
    "# print(mod1.add(3,4))\n",
    "# print(mod1.sub(4,2))\n",
    "\n",
    "# usage2\n",
    "# from mod1 import add, sub\n",
    "# add(3,4)\n",
    "\n",
    "# usage3\n",
    "# from mod1 import *\n",
    "# add(3,4)\n",
    "\n",
    "# mod2.py\n",
    "def add(a,b):\n",
    "    return a+b\n",
    "\n",
    "def sub(a,b):\n",
    "    return a-b\n",
    "\n",
    "# print(add(1,4)) # 이처럼 print 구문이 있을경우, import하는 순간 원치 않는 print 구문도 실행이 된다.\n",
    "# print(sub(4,2)) # 이를 방지하려면 아래와 같이 코드를.\n",
    "\n",
    "# mod2_modified.py\n",
    "def add(a,b):\n",
    "    return a+b\n",
    "\n",
    "def sub(a,b):\n",
    "    return a-b\n",
    "\n",
    "if __name__ == '__main__':\n",
    "    # print(add(1,4))\n",
    "    # print(sub(4,2))\n",
    "    \n",
    "# __name__ variable\n",
    "# __name__ 변수는 파이썬이 내부적으로 사용하는 변수다. python을 직접 구동했을 경우 \n",
    "# __name__에 __main__이 할당된다. 그러나 import 하였을 경우에는 __name__에 mod1처럼 파일명이 할당된다.\n",
    "\n",
    "# mod3.py\n",
    "PI = 3.141592\n",
    "\n",
    "class Math:\n",
    "    def solve(self, r):\n",
    "        return PI * (r**2)\n",
    "\n",
    "def add(a,b):\n",
    "    return a+b\n",
    "\n",
    "# import mod3\n",
    "# print(mod2.PI)\n",
    "\n",
    "# a = mod3.Math()\n",
    "# print(a.solv(2))\n",
    "\n",
    "# print(mod3.add(mod3.PI, 4.4))"
   ]
  },
  {
   "cell_type": "markdown",
   "metadata": {},
   "source": [
    "### ___Sys module___"
   ]
  },
  {
   "cell_type": "code",
   "execution_count": null,
   "metadata": {},
   "outputs": [],
   "source": [
    "# sys.path 함수는 파이썬 파일의 directory를 알려준다. 소스 코드에서는 / 또는 \\\\를 사용해야한다.\n",
    "# 명령 프롬프트에서는 / 또는 \\ 를 사용해도된다.\n",
    ">>> import sys\n",
    ">>> sys.path \n",
    ">>> sys.path.append(\"C:/Users/tkdqj/Documents/py/mod3.py\") # 예시\n",
    ">>> sys.path"
   ]
  },
  {
   "cell_type": "markdown",
   "metadata": {},
   "source": [
    "### ___PYTHONPATH environment variable___"
   ]
  },
  {
   "cell_type": "code",
   "execution_count": null,
   "metadata": {},
   "outputs": [],
   "source": [
    " # command 창에서 PYTHONPPATH를 추가하는 방법\n",
    " >>> C:/Users/tkdqj/Documents/py>set PYTHONPATH=C:/C:/Users/tkdqj/Documents/py\n",
    " >>> C:/Users/tkdqj/Documents/py>python\n",
    " >>> import mod3 "
   ]
  },
  {
   "cell_type": "markdown",
   "metadata": {},
   "source": [
    "# ___05-3 Package___"
   ]
  },
  {
   "cell_type": "markdown",
   "metadata": {},
   "source": [
    "package의 디렉토리 구조\n",
    "game/\n",
    "    __init__.py\n",
    "    sound/\n",
    "        __init__.py\n",
    "        echo.py\n",
    "        wav.py\n",
    "    graphic/\n",
    "        __init__.py\n",
    "        screen.py\n",
    "        render.py\n",
    "    play/\n",
    "        __init__.py\n",
    "        run.py\n",
    "        test.py"
   ]
  },
  {
   "cell_type": "code",
   "execution_count": null,
   "metadata": {},
   "outputs": [],
   "source": [
    "# ok\n",
    ">>> import game.sound.echo\n",
    ">>> game.sound.echo.echo_test()\n",
    "\n",
    ">>> from game.sound import echo\n",
    ">>> echo.echo_test()\n",
    "\n",
    ">>> from game.sound.echo import echo_test\n",
    ">>> echo_test()\n",
    "\n",
    "# fail\n",
    ">>> import game\n",
    ">>> game.sound.echo.echo_test()\n",
    "\n",
    ">>> import game.sound.echo.echo_test"
   ]
  },
  {
   "cell_type": "markdown",
   "metadata": {},
   "source": [
    "### ___Init.py___"
   ]
  },
  {
   "cell_type": "code",
   "execution_count": null,
   "metadata": {},
   "outputs": [],
   "source": [
    ">>> from game.sound import *\n",
    "\n",
    "# 위 *를 사용하여 import하기 위해서는 __init__.py 파일에 __all__ 변수를 성정해줘야한다. \n",
    "# __all__ = ['echo']\n",
    "\n",
    ">>> from game.sound.echo import *\n",
    "\n",
    "# 위 예시는 __all__과 상관없이 무조건 import된다. 이 경우는 from의 마지막 항목이 모듈인 경우다."
   ]
  },
  {
   "cell_type": "markdown",
   "metadata": {},
   "source": [
    "### ___Relative package___"
   ]
  },
  {
   "cell_type": "code",
   "execution_count": null,
   "metadata": {},
   "outputs": [],
   "source": [
    "# graphic directory의 render.py 모듈이 sound directory의 echo.py 몯듈을 사용하기 싶다면?\n",
    "\n",
    "# render.py\n",
    "from game.sound.echo import echo_test\n",
    "def render_test():\n",
    "    print('render')\n",
    "    echo_test()\n",
    "    \n",
    "# relative import\n",
    "from ..sound.echo import echo_test\n",
    "\n",
    "def render_test():\n",
    "    print('render')\n",
    "    echo_test()\n",
    "\n",
    "# 동일한 부모 directory를 ..로 표현하였다.\n",
    "# 현재 디렉토리의 경우 .로 표현한다.\n",
    "# ..과 같은 relative 접근자는 모듈안에서만 사용해야한다. 인터프리터에서 relative한 접근자를 사용시 에러."
   ]
  },
  {
   "cell_type": "markdown",
   "metadata": {},
   "source": [
    "# ___05-4 Exception___"
   ]
  }
 ],
 "metadata": {
  "kernelspec": {
   "display_name": "Python 3",
   "language": "python",
   "name": "python3"
  },
  "language_info": {
   "codemirror_mode": {
    "name": "ipython",
    "version": 3
   },
   "file_extension": ".py",
   "mimetype": "text/x-python",
   "name": "python",
   "nbconvert_exporter": "python",
   "pygments_lexer": "ipython3",
   "version": "3.8.5"
  }
 },
 "nbformat": 4,
 "nbformat_minor": 4
}
