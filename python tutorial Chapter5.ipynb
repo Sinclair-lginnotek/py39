{
 "cells": [
  {
   "cell_type": "markdown",
   "metadata": {},
   "source": [
    "# 5. Data Structures"
   ]
  },
  {
   "cell_type": "markdown",
   "metadata": {},
   "source": [
    "## 5.1 More on Lists"
   ]
  },
  {
   "cell_type": "code",
   "execution_count": 51,
   "metadata": {},
   "outputs": [
    {
     "data": {
      "text/plain": [
       "[1, 1, 2, 2, 3, 3, 4, 4, 5]"
      ]
     },
     "execution_count": 51,
     "metadata": {},
     "output_type": "execute_result"
    }
   ],
   "source": [
    "# list.append(x)\n",
    "# list.extend(iterable)\n",
    "# list.insert(i,x)\n",
    "# list.remove(x)\n",
    "# list.pop([i])\n",
    "# list.clear()\n",
    "# list.index(x[,start[,end]])\n",
    "# list.count(x)\n",
    "# list.sort(*,key=None, revefrse=False)\n",
    "# list.reverse()\n",
    "# list.copy\n",
    "\n",
    "pyl = [1,2,3]\n",
    "pyl\n",
    "\n",
    "pyl.append('append') # value to the last\n",
    "pyl\n",
    "\n",
    "pyl.extend('5') # value only iterable to the last\n",
    "pyl\n",
    "\n",
    "pyl. insert(1,'insert') # index, value\n",
    "pyl\n",
    "\n",
    "pyl.remove(3) # remove value in that index\n",
    "pyl\n",
    "\n",
    "pyl.pop(3) # remove index and pop up, if not specified, remove the last and pop that up\n",
    "pyl\n",
    "\n",
    "pyl.clear() # clear all\n",
    "pyl\n",
    "\n",
    "pyl = [1,2,3,4,5,4,3,2,1,]\n",
    "pyl\n",
    "\n",
    "pyl.index(2,7) # value,index -> find value after that index(included)\n",
    "\n",
    "pyl.count(1) # value -> count value\n",
    "\n",
    "pyl.sort(reverse=False)\n",
    "pyl\n",
    "\n",
    "pyl.copy() # shallow copy"
   ]
  },
  {
   "cell_type": "markdown",
   "metadata": {},
   "source": [
    "### 5.1.1 Using Lists as Stacks"
   ]
  },
  {
   "cell_type": "code",
   "execution_count": 53,
   "metadata": {},
   "outputs": [
    {
     "data": {
      "text/plain": [
       "[3, 4, 5]"
      ]
     },
     "execution_count": 53,
     "metadata": {},
     "output_type": "execute_result"
    }
   ],
   "source": [
    "stack = [3,4,5]\n",
    "stack.append(6)\n",
    "stack.append(7)\n",
    "stack.pop()\n",
    "stack.pop()\n",
    "stack"
   ]
  },
  {
   "cell_type": "markdown",
   "metadata": {},
   "source": [
    "### 5.1.2 Using Lists as Queues"
   ]
  },
  {
   "cell_type": "code",
   "execution_count": 61,
   "metadata": {},
   "outputs": [
    {
     "data": {
      "text/plain": [
       "deque(['Michael', 'Terry'])"
      ]
     },
     "execution_count": 61,
     "metadata": {},
     "output_type": "execute_result"
    }
   ],
   "source": [
    "from collections import deque\n",
    "queue = deque(['Eric', 'John', 'Michael'])\n",
    "\n",
    "queue.append('Terry')\n",
    "queue\n",
    "\n",
    "queue.append('Graham')\n",
    "queue\n",
    "\n",
    "queue.popleft()\n",
    "queue.popleft()\n",
    "queue.pop()\n",
    "queue"
   ]
  },
  {
   "cell_type": "markdown",
   "metadata": {},
   "source": [
    "### List Comprehensions"
   ]
  },
  {
   "cell_type": "code",
   "execution_count": 68,
   "metadata": {},
   "outputs": [
    {
     "data": {
      "text/plain": [
       "[0, 1, 4, 9, 16, 25, 36, 49, 64, 81]"
      ]
     },
     "execution_count": 68,
     "metadata": {},
     "output_type": "execute_result"
    }
   ],
   "source": [
    "# Without list comprehensions\n",
    "squares = []\n",
    "for x in range(10):\n",
    "    squares.append(x**2)\n",
    "squares\n",
    "\n",
    "# List comprehensions\n",
    "squares = list(map(lambda x: x**2, range(10)))\n",
    "squares\n",
    "\n",
    "# List comprehensions2\n",
    "squares = [x**2 for x in range(10)]\n",
    "squares"
   ]
  },
  {
   "cell_type": "code",
   "execution_count": 72,
   "metadata": {},
   "outputs": [
    {
     "data": {
      "text/plain": [
       "[(1, 3), (1, 4), (2, 3), (2, 1), (2, 4), (3, 1), (3, 4)]"
      ]
     },
     "execution_count": 72,
     "metadata": {},
     "output_type": "execute_result"
    }
   ],
   "source": [
    "# Wthout list comprehensions\n",
    "combs = []\n",
    "for x in[1,2,3]:\n",
    "    for y in [3,1,4]:\n",
    "        if x !=y:\n",
    "            combs.append((x,y))\n",
    "combs\n",
    "\n",
    "# With list comprehensions\n",
    "[(x,y) for x in[1,2,3] for y in [3,1,4] if x != y]"
   ]
  },
  {
   "cell_type": "code",
   "execution_count": 91,
   "metadata": {},
   "outputs": [
    {
     "ename": "SyntaxError",
     "evalue": "invalid syntax (<ipython-input-91-5c5ac25b28c8>, line 30)",
     "output_type": "error",
     "traceback": [
      "\u001b[1;36m  File \u001b[1;32m\"<ipython-input-91-5c5ac25b28c8>\"\u001b[1;36m, line \u001b[1;32m30\u001b[0m\n\u001b[1;33m    frame = [str(round(pi,i)) for i in range(1,6)] 3 round 는 자릿수 반올림\u001b[0m\n\u001b[1;37m                                                   ^\u001b[0m\n\u001b[1;31mSyntaxError\u001b[0m\u001b[1;31m:\u001b[0m invalid syntax\n"
     ]
    }
   ],
   "source": [
    "vec = [-4, -2, 0, 2, 4]\n",
    "\n",
    "vec = [x*2 for x in vec]\n",
    "vec\n",
    "\n",
    "vec = [x for x in vec if x>= 0]\n",
    "vec\n",
    "\n",
    "vec = [abs(x) for x in vec]\n",
    "vec\n",
    "\n",
    "# remove sapce\n",
    "freshfruit = ['   banana   ', '   loganberry   ', '   passionfruit   ']\n",
    "frame = [weapon.strip() for weapon in freshfruit]\n",
    "frame\n",
    "\n",
    "frame = [(x,x**2) for x in range(6)]\n",
    "frame\n",
    "\n",
    "# syntax error\n",
    "#frame = [x, x**2 for x in range(6)]\n",
    "#frame\n",
    "\n",
    "# list 부수기\n",
    "vec = [[1,2,3,],[4,5,6],[7,8,9]]\n",
    "vec = [num for elem in vec for num in elem]\n",
    "vec\n",
    "\n",
    "from math import pi\n",
    "frame = [str(round(pi,i)) for i in range(1,6)] 3 round 는 자릿수 반올림\n",
    "frame"
   ]
  },
  {
   "cell_type": "markdown",
   "metadata": {},
   "source": [
    "### 5.1.4 Nested List Comprehensions"
   ]
  },
  {
   "cell_type": "code",
   "execution_count": 102,
   "metadata": {},
   "outputs": [
    {
     "data": {
      "text/plain": [
       "[[1, 5, 9], [2, 6, 10], [3, 7, 11], [4, 8, 12]]"
      ]
     },
     "execution_count": 102,
     "metadata": {},
     "output_type": "execute_result"
    }
   ],
   "source": [
    "# With list comprehensions\n",
    "matrix = [\n",
    "    [1,2,3,4],\n",
    "    [5,6,7,8],\n",
    "    [9,10,11,12]\n",
    "]\n",
    "matrix\n",
    "\n",
    "# 행열 전환\n",
    "matrix = [[row[i] for row in matrix ] for i in range(4)]\n",
    "matrix\n",
    "\n",
    "# equivalent\n",
    "matrix = [\n",
    "    [1,2,3,4],\n",
    "    [5,6,7,8],\n",
    "    [9,10,11,12]\n",
    "]\n",
    "matrix\n",
    "\n",
    "transposed = []\n",
    "for i in range(4):\n",
    "    transposed.append([row[i] for row in matrix])\n",
    "transposed"
   ]
  },
  {
   "cell_type": "code",
   "execution_count": 105,
   "metadata": {},
   "outputs": [
    {
     "data": {
      "text/plain": [
       "[(1, 5, 9), (2, 6, 10), (3, 7, 11), (4, 8, 12)]"
      ]
     },
     "execution_count": 105,
     "metadata": {},
     "output_type": "execute_result"
    }
   ],
   "source": [
    "list(zip(*matrix))"
   ]
  }
 ],
 "metadata": {
  "kernelspec": {
   "display_name": "Python 3",
   "language": "python",
   "name": "python3"
  },
  "language_info": {
   "codemirror_mode": {
    "name": "ipython",
    "version": 3
   },
   "file_extension": ".py",
   "mimetype": "text/x-python",
   "name": "python",
   "nbconvert_exporter": "python",
   "pygments_lexer": "ipython3",
   "version": "3.8.5"
  }
 },
 "nbformat": 4,
 "nbformat_minor": 4
}
