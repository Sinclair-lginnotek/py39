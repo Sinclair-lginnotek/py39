{
 "cells": [
  {
   "cell_type": "markdown",
   "metadata": {},
   "source": [
    "# 05-1 클래스\n",
    " 한 프로그램에서 2대의 계산기가 필요한 상황일때, 코드를 추가하지 않고 기존에 작성했던 코드를 이용하는 방법. 클래스"
   ]
  },
  {
   "cell_type": "code",
   "execution_count": 1,
   "metadata": {},
   "outputs": [
    {
     "name": "stdout",
     "output_type": "stream",
     "text": [
      "3\n",
      "7\n",
      "3\n",
      "10\n"
     ]
    }
   ],
   "source": [
    "# without class\n",
    "result1 = 0\n",
    "result2 = 0\n",
    "\n",
    "def add1(num):\n",
    "    global result1\n",
    "    result1 += num\n",
    "    return result1\n",
    "\n",
    "def add2(num):\n",
    "    global result2\n",
    "    result2 += num\n",
    "    return result2\n",
    "\n",
    "print(add1(3))\n",
    "print(add1(4))\n",
    "print(add2(3))\n",
    "print(add2(7))"
   ]
  },
  {
   "cell_type": "code",
   "execution_count": 2,
   "metadata": {},
   "outputs": [
    {
     "name": "stdout",
     "output_type": "stream",
     "text": [
      "3\n",
      "7\n",
      "3\n",
      "10\n"
     ]
    }
   ],
   "source": [
    "# with class\n",
    "class Calculator:\n",
    "    def __init__(self):\n",
    "        self.result = 0\n",
    "\n",
    "    def add(self, num):\n",
    "        self.result += num\n",
    "        return self.result\n",
    "\n",
    "cal1 = Calculator()\n",
    "cal2 = Calculator()\n",
    "\n",
    "print(cal1.add(3))\n",
    "print(cal1.add(4))\n",
    "print(cal2.add(3))\n",
    "print(cal2.add(7))"
   ]
  },
  {
   "cell_type": "raw",
   "metadata": {},
   "source": [
    "클래스는 객체를 생선한다. 클래스를 만든 객체를 인스턴스라고도 한다.a라는 객체가 있을 때 a = cookie()에서 a는 cookie()의 인스턴스가 된다."
   ]
  },
  {
   "cell_type": "code",
   "execution_count": 3,
   "metadata": {},
   "outputs": [],
   "source": [
    "class cookie:\n",
    "    pass\n",
    "\n",
    "a = cookie() \n",
    "b = cookie() "
   ]
  },
  {
   "cell_type": "markdown",
   "metadata": {},
   "source": [
    "클래스 예시를 하나 만들어보자."
   ]
  },
  {
   "cell_type": "code",
   "execution_count": 12,
   "metadata": {},
   "outputs": [],
   "source": [
    "# class Fourcal \n",
    "class FourCal : # 클래스 안에 든 함수는 메서드(Method), \n",
    "    def setdata(self,first,second): # 첫번째 매개변수로 self를 사용하는것은 일종의 관례\n",
    "        self.first = first # 객체를 통해 메서드를 호출하려면 도트(.) 연산자를 사용해야 한다.\n",
    "        self.second = second\n",
    "\n",
    "# method 호출 방법1; 매개변수를 통해 직접 호출\n",
    "a = FourCal()\n",
    "a.setdata(4,2)\n",
    "\n",
    "# method 호출 방법2; 클래스를 통해 호출\n",
    "a = FourCal()\n",
    "FourCal.setdata(a,4,2)\n",
    "\n",
    "# method 수행\n",
    "a = FourCal()\n",
    "b = FourCal()\n",
    "a.setdata(4,2) # a.first = 4, a.second = 2 , 두 변수의 id는 고유값을 가진다.\n",
    "b.setdata(3,7) # b.first = 3, b.first = 7, 물론 매개변수도 다르면 당연히 id도 다르다.\n"
   ]
  },
  {
   "cell_type": "code",
   "execution_count": 19,
   "metadata": {},
   "outputs": [
    {
     "data": {
      "text/plain": [
       "6"
      ]
     },
     "execution_count": 19,
     "metadata": {},
     "output_type": "execute_result"
    }
   ],
   "source": [
    "# add method 추가\n",
    "\n",
    "# class statement\n",
    "class FourCal:\n",
    "    def setdata(self,first,second):\n",
    "        self.first = first\n",
    "        self.second = second\n",
    "    def add(self):\n",
    "        result = self.first + self.second\n",
    "        return result\n",
    "\n",
    "# recall method\n",
    "a = FourCal()\n",
    "a.setdata(4,2)\n",
    "a.add() #a.add = 6 method 실현"
   ]
  },
  {
   "cell_type": "code",
   "execution_count": 22,
   "metadata": {},
   "outputs": [],
   "source": [
    "# FourCal class statement\n",
    "class FourCal:\n",
    "    def setdata(self,first,second):\n",
    "        self.first = first\n",
    "        self.second = second\n",
    "    def add(self):\n",
    "        result = self.first + self.second\n",
    "        return result\n",
    "    def mul(self):\n",
    "        result = self.first * self.second\n",
    "        return result\n",
    "    def sub(self):\n",
    "        reuslt = self.first - self.second\n",
    "        return result\n",
    "    def div(self):\n",
    "        result = self.first / self.second\n",
    "        return result"
   ]
  }
 ],
 "metadata": {
  "kernelspec": {
   "display_name": "Python 3",
   "language": "python",
   "name": "python3"
  },
  "language_info": {
   "codemirror_mode": {
    "name": "ipython",
    "version": 3
   },
   "file_extension": ".py",
   "mimetype": "text/x-python",
   "name": "python",
   "nbconvert_exporter": "python",
   "pygments_lexer": "ipython3",
   "version": "3.8.5"
  }
 },
 "nbformat": 4,
 "nbformat_minor": 4
}
