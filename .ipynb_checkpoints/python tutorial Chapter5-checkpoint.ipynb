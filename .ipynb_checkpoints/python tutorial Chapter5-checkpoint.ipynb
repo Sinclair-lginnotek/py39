{
 "cells": [
  {
   "cell_type": "markdown",
   "metadata": {},
   "source": [
    "# 5. Data Structures"
   ]
  },
  {
   "cell_type": "markdown",
   "metadata": {},
   "source": [
    "## 5.1 More on Lists"
   ]
  },
  {
   "cell_type": "code",
   "execution_count": 51,
   "metadata": {},
   "outputs": [
    {
     "data": {
      "text/plain": [
       "[1, 1, 2, 2, 3, 3, 4, 4, 5]"
      ]
     },
     "execution_count": 51,
     "metadata": {},
     "output_type": "execute_result"
    }
   ],
   "source": [
    "# list.append(x)\n",
    "# list.extend(iterable)\n",
    "# list.insert(i,x)\n",
    "# list.remove(x)\n",
    "# list.pop([i])\n",
    "# list.clear()\n",
    "# list.index(x[,start[,end]])\n",
    "# list.count(x)\n",
    "# list.sort(*,key=None, revefrse=False)\n",
    "# list.reverse()\n",
    "# list.copy\n",
    "\n",
    "pyl = [1,2,3]\n",
    "pyl\n",
    "\n",
    "pyl.append('append') # value to the last\n",
    "pyl\n",
    "\n",
    "pyl.extend('5') # value only iterable to the last\n",
    "pyl\n",
    "\n",
    "pyl. insert(1,'insert') # index, value\n",
    "pyl\n",
    "\n",
    "pyl.remove(3) # remove value in that index\n",
    "pyl\n",
    "\n",
    "pyl.pop(3) # remove index and pop up, if not specified, remove the last and pop that up\n",
    "pyl\n",
    "\n",
    "pyl.clear() # clear all\n",
    "pyl\n",
    "\n",
    "pyl = [1,2,3,4,5,4,3,2,1,]\n",
    "pyl\n",
    "\n",
    "pyl.index(2,7) # value,index -> find value after that index(included)\n",
    "\n",
    "pyl.count(1) # value -> count value\n",
    "\n",
    "pyl.sort(reverse=False)\n",
    "pyl\n",
    "\n",
    "pyl.copy() # shallow copy"
   ]
  },
  {
   "cell_type": "markdown",
   "metadata": {},
   "source": [
    "### 5.1.1 Using Lists as Stacks"
   ]
  },
  {
   "cell_type": "code",
   "execution_count": 53,
   "metadata": {},
   "outputs": [
    {
     "data": {
      "text/plain": [
       "[3, 4, 5]"
      ]
     },
     "execution_count": 53,
     "metadata": {},
     "output_type": "execute_result"
    }
   ],
   "source": [
    "stack = [3,4,5]\n",
    "stack.append(6)\n",
    "stack.append(7)\n",
    "stack.pop()\n",
    "stack.pop()\n",
    "stack"
   ]
  },
  {
   "cell_type": "markdown",
   "metadata": {},
   "source": [
    "### 5.1.2 Using Lists as Queues"
   ]
  },
  {
   "cell_type": "code",
   "execution_count": 61,
   "metadata": {},
   "outputs": [
    {
     "data": {
      "text/plain": [
       "deque(['Michael', 'Terry'])"
      ]
     },
     "execution_count": 61,
     "metadata": {},
     "output_type": "execute_result"
    }
   ],
   "source": [
    "from collections import deque\n",
    "queue = deque(['Eric', 'John', 'Michael'])\n",
    "\n",
    "queue.append('Terry')\n",
    "queue\n",
    "\n",
    "queue.append('Graham')\n",
    "queue\n",
    "\n",
    "queue.popleft()\n",
    "queue.popleft()\n",
    "queue.pop()\n",
    "queue"
   ]
  },
  {
   "cell_type": "markdown",
   "metadata": {},
   "source": [
    "### 5.1.3 List Comprehensions"
   ]
  },
  {
   "cell_type": "code",
   "execution_count": 68,
   "metadata": {},
   "outputs": [
    {
     "data": {
      "text/plain": [
       "[0, 1, 4, 9, 16, 25, 36, 49, 64, 81]"
      ]
     },
     "execution_count": 68,
     "metadata": {},
     "output_type": "execute_result"
    }
   ],
   "source": [
    "# Without list comprehensions\n",
    "squares = []\n",
    "for x in range(10):\n",
    "    squares.append(x**2)\n",
    "squares\n",
    "\n",
    "# List comprehensions\n",
    "squares = list(map(lambda x: x**2, range(10)))\n",
    "squares\n",
    "\n",
    "# List comprehensions2\n",
    "squares = [x**2 for x in range(10)]\n",
    "squares"
   ]
  },
  {
   "cell_type": "code",
   "execution_count": 72,
   "metadata": {},
   "outputs": [
    {
     "data": {
      "text/plain": [
       "[(1, 3), (1, 4), (2, 3), (2, 1), (2, 4), (3, 1), (3, 4)]"
      ]
     },
     "execution_count": 72,
     "metadata": {},
     "output_type": "execute_result"
    }
   ],
   "source": [
    "# Wthout list comprehensions\n",
    "combs = []\n",
    "for x in[1,2,3]:\n",
    "    for y in [3,1,4]:\n",
    "        if x !=y:\n",
    "            combs.append((x,y))\n",
    "combs\n",
    "\n",
    "# With list comprehensions\n",
    "[(x,y) for x in[1,2,3] for y in [3,1,4] if x != y]"
   ]
  },
  {
   "cell_type": "code",
   "execution_count": 91,
   "metadata": {},
   "outputs": [
    {
     "ename": "SyntaxError",
     "evalue": "invalid syntax (<ipython-input-91-5c5ac25b28c8>, line 30)",
     "output_type": "error",
     "traceback": [
      "\u001b[1;36m  File \u001b[1;32m\"<ipython-input-91-5c5ac25b28c8>\"\u001b[1;36m, line \u001b[1;32m30\u001b[0m\n\u001b[1;33m    frame = [str(round(pi,i)) for i in range(1,6)] 3 round 는 자릿수 반올림\u001b[0m\n\u001b[1;37m                                                   ^\u001b[0m\n\u001b[1;31mSyntaxError\u001b[0m\u001b[1;31m:\u001b[0m invalid syntax\n"
     ]
    }
   ],
   "source": [
    "vec = [-4, -2, 0, 2, 4]\n",
    "\n",
    "vec = [x*2 for x in vec]\n",
    "vec\n",
    "\n",
    "vec = [x for x in vec if x>= 0]\n",
    "vec\n",
    "\n",
    "vec = [abs(x) for x in vec]\n",
    "vec\n",
    "\n",
    "# remove sapce\n",
    "freshfruit = ['   banana   ', '   loganberry   ', '   passionfruit   ']\n",
    "frame = [weapon.strip() for weapon in freshfruit]\n",
    "frame\n",
    "\n",
    "frame = [(x,x**2) for x in range(6)]\n",
    "frame\n",
    "\n",
    "# syntax error\n",
    "#frame = [x, x**2 for x in range(6)]\n",
    "#frame\n",
    "\n",
    "# list 부수기\n",
    "vec = [[1,2,3,],[4,5,6],[7,8,9]]\n",
    "vec = [num for elem in vec for num in elem]\n",
    "vec\n",
    "\n",
    "from math import pi\n",
    "frame = [str(round(pi,i)) for i in range(1,6)] 3 round 는 자릿수 반올림\n",
    "frame"
   ]
  },
  {
   "cell_type": "markdown",
   "metadata": {},
   "source": [
    "### 5.1.4 Nested List Comprehensions"
   ]
  },
  {
   "cell_type": "code",
   "execution_count": 2,
   "metadata": {},
   "outputs": [
    {
     "data": {
      "text/plain": [
       "[[1, 5, 9], [2, 6, 10], [3, 7, 11], [4, 8, 12]]"
      ]
     },
     "execution_count": 2,
     "metadata": {},
     "output_type": "execute_result"
    }
   ],
   "source": [
    "# With list comprehensions\n",
    "matrix = [\n",
    "    [1,2,3,4],\n",
    "    [5,6,7,8],\n",
    "    [9,10,11,12]\n",
    "]\n",
    "matrix\n",
    "\n",
    "# 행열 전환\n",
    "matrix = [[row[i] for row in matrix ] for i in range(4)]\n",
    "matrix\n",
    "\n",
    "# equivalent\n",
    "matrix = [\n",
    "    [1,2,3,4],\n",
    "    [5,6,7,8],\n",
    "    [9,10,11,12]\n",
    "]\n",
    "matrix\n",
    "\n",
    "transposed = []\n",
    "for i in range(4):\n",
    "    transposed.append([row[i] for row in matrix])\n",
    "transposed"
   ]
  },
  {
   "cell_type": "code",
   "execution_count": 4,
   "metadata": {},
   "outputs": [
    {
     "name": "stdout",
     "output_type": "stream",
     "text": [
      "[[1, 2, 3, 4], [5, 6, 7, 8], [9, 10, 11, 12]]\n"
     ]
    },
    {
     "data": {
      "text/plain": [
       "[(1, 5, 9), (2, 6, 10), (3, 7, 11), (4, 8, 12)]"
      ]
     },
     "execution_count": 4,
     "metadata": {},
     "output_type": "execute_result"
    }
   ],
   "source": [
    "# zip for mkaing tuple\n",
    "matrix = [\n",
    "    [1,2,3,4],\n",
    "    [5,6,7,8],\n",
    "    [9,10,11,12]\n",
    "]\n",
    "print(matrix)\n",
    "list(zip(*matrix)) \n",
    "# *matrix 는 matirx의 리스트 구성요소를 하나하나 입력,\n",
    "#zip 은 각 요소 리스트를 가로로 세워 자른 후 튜플화"
   ]
  },
  {
   "cell_type": "markdown",
   "metadata": {},
   "source": [
    "## 5.2 The ```del``` statement"
   ]
  },
  {
   "cell_type": "code",
   "execution_count": 7,
   "metadata": {},
   "outputs": [
    {
     "name": "stdout",
     "output_type": "stream",
     "text": [
      "[1, 66.25, 333, 333, 1234.5]\n",
      "[1, 66.25, 1234.5]\n"
     ]
    }
   ],
   "source": [
    "a = [-1,1,66.25,333,333,1234.5]\n",
    "del a[0] # del with index\n",
    "print(a)\n",
    "\n",
    "del a[2:4] # del with slice\n",
    "print(a)\n",
    "\n"
   ]
  },
  {
   "cell_type": "markdown",
   "metadata": {},
   "source": [
    "## 5.3 Tuples and Sequences\n"
   ]
  },
  {
   "cell_type": "code",
   "execution_count": 36,
   "metadata": {},
   "outputs": [
    {
     "data": {
      "text/plain": [
       "'hello!'"
      ]
     },
     "execution_count": 36,
     "metadata": {},
     "output_type": "execute_result"
    }
   ],
   "source": [
    "# tuple\n",
    "t = 1234, 54321, 'hello!'\n",
    "t[0]\n",
    "\n",
    " # tuple in tuple\n",
    "u = t, (1,2,3,4,5)\n",
    "u\n",
    "\n",
    "# tuples are immutable\n",
    "# t[0] = 8888 \n",
    "\n",
    "# tuple with mutable members\n",
    "v = ([1,2,3], [3,2,1])\n",
    "v\n",
    "v[0][0] = 2 # mutable member can be changed.\n",
    "v\n",
    "\n",
    "# tuple with 0 or 1 member\n",
    "empty = ()\n",
    "singleton = 'hello',\n",
    "len(empty)\n",
    "len(singleton)\n",
    "singleton\n",
    "\n",
    "# unpacking \n",
    "x,y,z = t\n",
    "\n"
   ]
  },
  {
   "cell_type": "markdown",
   "metadata": {},
   "source": [
    "## 5.4 Sets\n",
    "a set is an unordered collection with _no duplicate_ elements.Set objects also support mathematical operations like union, intersection, difference, and symmetric difference. Curly braces or the set() function can be used to create sets."
   ]
  },
  {
   "cell_type": "code",
   "execution_count": 55,
   "metadata": {
    "scrolled": false
   },
   "outputs": [
    {
     "data": {
      "text/plain": [
       "<generator object <genexpr> at 0x000002019A58E0B0>"
      ]
     },
     "execution_count": 55,
     "metadata": {},
     "output_type": "execute_result"
    }
   ],
   "source": [
    "# set, no duplicate, no order\n",
    "basket = {'apple', 'orange', 'apple', 'pear', 'orange', 'banana'}\n",
    "basket\n",
    "\n",
    "# Demonstrate set operations on unique letters from two words\n",
    "a = set('abracadabra')\n",
    "b = set('alacazam')\n",
    "a\n",
    "b\n",
    "\n",
    "# in a but not in b \n",
    "a-b\n",
    "\n",
    "# in a or b or both\n",
    "a | b\n",
    "\n",
    "# in both a and b\n",
    "a & b\n",
    "\n",
    "# in a or b but not both\n",
    "a^b\n",
    "\n",
    "# no comprehension in tuple \n",
    "a = (x for x in 'abradacadabra' if x not in 'abc')\n",
    "a"
   ]
  },
  {
   "cell_type": "markdown",
   "metadata": {},
   "source": [
    "### 5.4.1 Set Comprehension"
   ]
  },
  {
   "cell_type": "code",
   "execution_count": 51,
   "metadata": {},
   "outputs": [
    {
     "data": {
      "text/plain": [
       "{'d', 'r'}"
      ]
     },
     "execution_count": 51,
     "metadata": {},
     "output_type": "execute_result"
    }
   ],
   "source": [
    "# set comprehension\n",
    "a = {x for x in 'abradacadabra' if x not in 'abc'}\n",
    "a"
   ]
  },
  {
   "cell_type": "markdown",
   "metadata": {},
   "source": [
    "## 5.5 Dictionaries\n",
    "Dictionaries are composed of keys and values. keys can be mad with both strings and numbers, but cannot be composed of list or tuple with list member."
   ]
  },
  {
   "cell_type": "code",
   "execution_count": 81,
   "metadata": {},
   "outputs": [
    {
     "data": {
      "text/plain": [
       "{'sape': 4139, 'guido': 4127, 'jack': 4098}"
      ]
     },
     "execution_count": 81,
     "metadata": {},
     "output_type": "execute_result"
    }
   ],
   "source": [
    "# set\n",
    "tel = {'jack' : 4098, 'sape' : 4139}\n",
    "tel['guido'] = 4127\n",
    "tel\n",
    "\n",
    "# read value with key\n",
    "tel['jack']\n",
    "\n",
    "# remove and add key:vlaue\n",
    "del tel['sape']\n",
    "tel['irv'] = 4127\n",
    "tel\n",
    "\n",
    "# make dic's value as list\n",
    "list(tel)\n",
    "sorted(tel)\n",
    "\n",
    "# search key, not applicable for value\n",
    "'jack' in tel\n",
    "4098 in tel\n",
    "\n",
    "# dict\n",
    "dict([('sape', 41390), ('guido', 4127), ('jack', 4098)]) # [ ( ) ]\n",
    "dict([['sape', 4139], ['guido', 4127], ['jack', 4098]]) # [ [ ] ]\n",
    "dict((['sape', 4139], ['guido', 4127], ['jack', 4098])) # ( [ ] )\n",
    "dict((('sape', 4139), ('guido', 4127), ('jack', 4098))) # ( ( ) )\n",
    "\n",
    "# dict2\n",
    "dict(sape=4139, guido=4127, jack=4098)"
   ]
  },
  {
   "cell_type": "markdown",
   "metadata": {},
   "source": [
    "## 5.5.1 Dict comprehension"
   ]
  },
  {
   "cell_type": "code",
   "execution_count": 83,
   "metadata": {},
   "outputs": [
    {
     "data": {
      "text/plain": [
       "{2: 9, 4: 9, 6: 9}"
      ]
     },
     "execution_count": 83,
     "metadata": {},
     "output_type": "execute_result"
    }
   ],
   "source": [
    "{x : x**2 for x in (2,4,6)}\n",
    "{x : y**2 for x in (2,4,6) for y in (1,2,3)} #  이 경우 마지막 값만 이용"
   ]
  },
  {
   "cell_type": "markdown",
   "metadata": {},
   "source": [
    "## 5.6 Looping Techniques"
   ]
  },
  {
   "cell_type": "code",
   "execution_count": 111,
   "metadata": {},
   "outputs": [
    {
     "name": "stdout",
     "output_type": "stream",
     "text": [
      "gallahad the pure\n",
      "robin the brave\n",
      "0 tic\n",
      "1 tac\n",
      "2 toe\n",
      "what is your name? It is ancelot\n",
      "what is your quest? It is the holy grail\n",
      "what is your favorite color? It is blue\n",
      "9\n",
      "7\n",
      "5\n",
      "3\n",
      "1\n",
      "apple\n",
      "banana\n",
      "orange\n",
      "pear\n"
     ]
    }
   ],
   "source": [
    "# .items()\n",
    "knights = {'gallahad':'the pure', 'robin':'the brave'}\n",
    "knights.items()\n",
    "\n",
    "# unpakcing\n",
    "for k,v in knights.items():\n",
    "    print(k,v)\n",
    "\n",
    "# enumerate()\n",
    "for i,v in enumerate(['tic', 'tac', 'toe']):\n",
    "    print(i,v)\n",
    "\n",
    "# zip()\n",
    "questions = ['name', 'quest', 'favorite color']\n",
    "answers = ['ancelot', 'the holy grail', 'blue']\n",
    "for q,a in zip(questions,answers):\n",
    "    print('what is your {0}? It is {1}'.format(q,a))\n",
    "\n",
    "# reversed()\n",
    "for i in reversed(range(1,10,2)):\n",
    "    print(i)\n",
    "\n",
    "# sorted()\n",
    "basket = ['apple', 'orange', 'apple', 'pear', 'orange', 'banana']\n",
    "for f in sorted(set(basket)):\n",
    "    print(f)"
   ]
  },
  {
   "cell_type": "code",
   "execution_count": 116,
   "metadata": {},
   "outputs": [
    {
     "name": "stdout",
     "output_type": "stream",
     "text": [
      "[56.2, 51.7, 55.3, 52.5, 47.8]\n"
     ]
    }
   ],
   "source": [
    "# filtering with two list\n",
    "import math\n",
    "raw_data = [56.2, float('NaN'), 51.7, 55.3, 52.5, float('NaN'), 47.8]\n",
    "filtered_data = []\n",
    "for i in raw_data:\n",
    "    if not math.isnan(i):\n",
    "        filtered_data.append(i)\n",
    "print(filtered_data)"
   ]
  },
  {
   "cell_type": "markdown",
   "metadata": {},
   "source": [
    "## 5.7 More on conditions"
   ]
  },
  {
   "cell_type": "code",
   "execution_count": 118,
   "metadata": {},
   "outputs": [
    {
     "data": {
      "text/plain": [
       "'Trondheim'"
      ]
     },
     "execution_count": 118,
     "metadata": {},
     "output_type": "execute_result"
    }
   ],
   "source": [
    "string1, string2, string3 = '', 'Trondheim', 'Hammer Dance'\n",
    "non_null = string1 or string2 or string3\n",
    "non_null"
   ]
  },
  {
   "cell_type": "markdown",
   "metadata": {},
   "source": [
    "## 5.8 Comparing Sequences and Other Types"
   ]
  },
  {
   "cell_type": "code",
   "execution_count": 122,
   "metadata": {},
   "outputs": [
    {
     "name": "stdout",
     "output_type": "stream",
     "text": [
      "True\n"
     ]
    },
    {
     "data": {
      "text/plain": [
       "True"
      ]
     },
     "execution_count": 122,
     "metadata": {},
     "output_type": "execute_result"
    }
   ],
   "source": [
    "# first member comparison -> second -> ...\n",
    "(1, 2, 3)              < (1, 2, 4)\n",
    "[1, 2, 3]              < [1, 2, 4]\n",
    "'ABC' < 'C' < 'Pascal' < 'Python',\n",
    "(1, 2, 3, 4)           < (1, 2, 4)\n",
    "(1, 2)                 < (1, 2, -1)\n",
    "(1, 2, 3)             == (1.0, 2.0, 3.0)\n",
    "(1, 2, ('aa', 'ab'))   < (1, 2, ('abc', 'a'), 4)"
   ]
  }
 ],
 "metadata": {
  "kernelspec": {
   "display_name": "Python 3",
   "language": "python",
   "name": "python3"
  },
  "language_info": {
   "codemirror_mode": {
    "name": "ipython",
    "version": 3
   },
   "file_extension": ".py",
   "mimetype": "text/x-python",
   "name": "python",
   "nbconvert_exporter": "python",
   "pygments_lexer": "ipython3",
   "version": "3.8.5"
  }
 },
 "nbformat": 4,
 "nbformat_minor": 4
}
