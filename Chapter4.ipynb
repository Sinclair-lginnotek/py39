{
 "cells": [
  {
   "cell_type": "markdown",
   "metadata": {},
   "source": [
    "# Chapter4 프로그램의 입력과 출력은 어떻게 해야 할까?"
   ]
  },
  {
   "cell_type": "markdown",
   "metadata": {},
   "source": [
    "## 04-1 함수"
   ]
  },
  {
   "cell_type": "markdown",
   "metadata": {},
   "source": [
    "### 함수의 기본형"
   ]
  },
  {
   "cell_type": "code",
   "execution_count": 35,
   "metadata": {},
   "outputs": [
    {
     "name": "stdout",
     "output_type": "stream",
     "text": [
      "c : 7\n"
     ]
    }
   ],
   "source": [
    "# function \"add\"\n",
    "a = 3\n",
    "b = 4\n",
    "def add(a,b):\n",
    "    return a+b # a,b는 매개변수, 3, 4는 인수\n",
    "\n",
    "c = add(a,b)\n",
    "print(\"c :\",c)"
   ]
  },
  {
   "cell_type": "markdown",
   "metadata": {},
   "source": [
    "### 함수의 형태"
   ]
  },
  {
   "cell_type": "code",
   "execution_count": 36,
   "metadata": {},
   "outputs": [
    {
     "name": "stdout",
     "output_type": "stream",
     "text": [
      "7\n",
      "Hi\n",
      "3, 4의 합은 7입니다.\n",
      "Hi\n"
     ]
    }
   ],
   "source": [
    "# 일반적인 함수\n",
    "def add(a,b):\n",
    "    result = a + b\n",
    "    return result\n",
    "a = add(3,4)\n",
    "print(a)\n",
    "\n",
    "# 입력값이 없는 함수\n",
    "def say():\n",
    "    return 'Hi'\n",
    "a = say()\n",
    "print(a)\n",
    "\n",
    "# 결과값이 없는 함수\n",
    "def add(a,b):\n",
    "    print(f\"{a}, {b}의 합은 {a+b}입니다.\")\n",
    "add(3,4)\n",
    "\n",
    "# 입력값도 결과값도 없는 함수\n",
    "def say():\n",
    "    print('Hi')\n",
    "say()"
   ]
  },
  {
   "cell_type": "markdown",
   "metadata": {},
   "source": [
    "### 매개변수 지정하여 호출하기"
   ]
  },
  {
   "cell_type": "code",
   "execution_count": 37,
   "metadata": {},
   "outputs": [
    {
     "name": "stdout",
     "output_type": "stream",
     "text": [
      "8\n",
      "8\n"
     ]
    }
   ],
   "source": [
    "# 함수 예시\n",
    "def add(a,b):\n",
    "    return a+b\n",
    "\n",
    "# 매개변수 지정하여 호출하기\n",
    "result = add(a=3, b=5)\n",
    "print(result)\n",
    "\n",
    "# 매개변수의 순서가 뒤바뀌어도 상관없다.\n",
    "result = add(b=5,a=3)\n",
    "print(result)"
   ]
  },
  {
   "cell_type": "markdown",
   "metadata": {},
   "source": [
    "### 입력값의 갯수 제약 없애기"
   ]
  },
  {
   "cell_type": "code",
   "execution_count": 38,
   "metadata": {},
   "outputs": [
    {
     "name": "stdout",
     "output_type": "stream",
     "text": [
      "55\n",
      "15\n",
      "120\n"
     ]
    }
   ],
   "source": [
    "# *args와 같이 변수앞에 *를 붙여주면 변수를 튜플로 만들어준다.\n",
    "def add_many(*args): #argss는 arguments의 약자. 관례적으로 사용한다.\n",
    "    result = 0\n",
    "    for i in args:\n",
    "        result += i\n",
    "    return result\n",
    "result = add_many(1,2,3,4,5,6,7,8,9,10)\n",
    "print(result)\n",
    "\n",
    "# *args를 사용할 때, 변수를 여러개 선언할 수 도있다.\n",
    "def add_mul(choice, *args):\n",
    "    if choice == \"add\":\n",
    "        result = 0\n",
    "        for i in args:\n",
    "            result = result + i\n",
    "    elif choice == \"mul\":\n",
    "        result = 1\n",
    "        for i in args:\n",
    "            result = result * i\n",
    "    return result\n",
    "\n",
    "result = add_mul('add', 1,2,3,4,5)\n",
    "print(result)\n",
    "\n",
    "result = add_mul('mul', 1,2,3,4,5)\n",
    "print(result)"
   ]
  },
  {
   "cell_type": "markdown",
   "metadata": {},
   "source": [
    "### 키워드 파라미터 kwargs"
   ]
  },
  {
   "cell_type": "code",
   "execution_count": 39,
   "metadata": {},
   "outputs": [
    {
     "name": "stdout",
     "output_type": "stream",
     "text": [
      "{'a': 1}\n",
      "{'name': 'foo', 'age': 3}\n"
     ]
    }
   ],
   "source": [
    "# 키워드 파라미터 (**)는 입력되는 매개변수 값을 모두 딕셔너리 형태로 입력한다.\n",
    "def print_kwargs(**kwargs):\n",
    "    \n",
    "    print(kwargs)\n",
    "\n",
    "print_kwargs(a=1)\n",
    "print_kwargs(name='foo', age=3)"
   ]
  },
  {
   "cell_type": "markdown",
   "metadata": {},
   "source": [
    "### 함수값은 언제나 하나"
   ]
  },
  {
   "cell_type": "code",
   "execution_count": 40,
   "metadata": {},
   "outputs": [
    {
     "name": "stdout",
     "output_type": "stream",
     "text": [
      "(7, 12)\n",
      "5\n"
     ]
    }
   ],
   "source": [
    "# 함수 결과값이 그에 상응하는 변수보다 많을 때 함수값은 튜플로 환원된다.\n",
    "\n",
    "def add_and_mul(a,b):\n",
    "    return a+b, a*b\n",
    "result= add_and_mul(3,4)\n",
    "print(result)\n",
    "\n",
    "\n",
    "# Another example\n",
    "def add_and_mul(a,b):\n",
    "    return a+b\n",
    "    return a*b\n",
    "result = add_and_mul(2,3)\n",
    "print(result)"
   ]
  },
  {
   "cell_type": "markdown",
   "metadata": {},
   "source": [
    "### ```return```의 사용법"
   ]
  },
  {
   "cell_type": "code",
   "execution_count": 50,
   "metadata": {},
   "outputs": [
    {
     "name": "stdout",
     "output_type": "stream",
     "text": [
      "나의 별명은 야호입니다.\n"
     ]
    },
    {
     "data": {
      "text/plain": [
       "'바보'"
      ]
     },
     "execution_count": 50,
     "metadata": {},
     "output_type": "execute_result"
    }
   ],
   "source": [
    "# return을 사용하여 특정 위치에서 함수를 탈출 할 수 있다.\n",
    "def say_nick(nick):\n",
    "    if nick == '바보':\n",
    "        return nick\n",
    "    print(f'나의 별명은 {nick}입니다.')\n",
    "say_nick('야호')\n",
    "say_nick('바보')          "
   ]
  },
  {
   "cell_type": "markdown",
   "metadata": {},
   "source": [
    "### 매개변수에 초깃값 미리 설정하기"
   ]
  },
  {
   "cell_type": "code",
   "execution_count": 55,
   "metadata": {},
   "outputs": [
    {
     "name": "stdout",
     "output_type": "stream",
     "text": [
      "나의 이름은 박응용입니다.\n",
      "나이는 27입니다.\n",
      "남자입니다.\n",
      "나의 이름은 박응용입니다.\n",
      "나이는 27입니다.\n",
      "남자입니다.\n",
      "나의 이름은 박응선입니다.\n",
      "나이는 27입니다.\n",
      "여자입니다.\n",
      "나의 이름은 박응선입니다.\n",
      "나이는 27입니다.\n",
      "여자입니다.\n"
     ]
    }
   ],
   "source": [
    "# 아래와 같이 선언시 값을 입력해주면 초기값 입력이 완료된다.\n",
    "def say_myself(name, old, man=True):\n",
    "    print(f'나의 이름은 {name}입니다.')\n",
    "    print(f'나이는 {old}입니다.')\n",
    "    if man:\n",
    "        print('남자입니다.')\n",
    "    else:\n",
    "        print('여자입니다.')\n",
    "\n",
    "say_myself('박응용',27)\n",
    "say_myself('박응용',27,True)\n",
    "say_myself('박응선',27,False)\n",
    "say_myself(name = '박응선',man = False,old = 27)"
   ]
  },
  {
   "cell_type": "markdown",
   "metadata": {},
   "source": [
    "### 함수 안에서 선언한 변수의 효력 범위"
   ]
  },
  {
   "cell_type": "code",
   "execution_count": 60,
   "metadata": {},
   "outputs": [
    {
     "name": "stdout",
     "output_type": "stream",
     "text": [
      "1\n"
     ]
    },
    {
     "ename": "NameError",
     "evalue": "name 'h' is not defined",
     "output_type": "error",
     "traceback": [
      "\u001b[1;31m---------------------------------------------------------------------------\u001b[0m",
      "\u001b[1;31mNameError\u001b[0m                                 Traceback (most recent call last)",
      "\u001b[1;32m<ipython-input-60-1ed5ef9a6016>\u001b[0m in \u001b[0;36m<module>\u001b[1;34m\u001b[0m\n\u001b[0;32m     10\u001b[0m     \u001b[0mh\u001b[0m\u001b[1;33m=\u001b[0m\u001b[0mh\u001b[0m\u001b[1;33m+\u001b[0m\u001b[1;36m1\u001b[0m\u001b[1;33m\u001b[0m\u001b[1;33m\u001b[0m\u001b[0m\n\u001b[0;32m     11\u001b[0m \u001b[0mvartest\u001b[0m\u001b[1;33m(\u001b[0m\u001b[1;36m3\u001b[0m\u001b[1;33m)\u001b[0m\u001b[1;33m\u001b[0m\u001b[1;33m\u001b[0m\u001b[0m\n\u001b[1;32m---> 12\u001b[1;33m \u001b[0mprint\u001b[0m\u001b[1;33m(\u001b[0m\u001b[0mh\u001b[0m\u001b[1;33m)\u001b[0m\u001b[1;33m\u001b[0m\u001b[1;33m\u001b[0m\u001b[0m\n\u001b[0m",
      "\u001b[1;31mNameError\u001b[0m: name 'h' is not defined"
     ]
    }
   ],
   "source": [
    "# 함수 안의 변수는 안에서만 의미를 가진다.\n",
    "a=1\n",
    "def vartest(a):\n",
    "    a=a+1\n",
    "vartest(a)\n",
    "print(a)\n",
    "\n",
    "# 미 선언된 변수\n",
    "def vartest(h):\n",
    "    h=h+1\n",
    "vartest(3)\n",
    "print(h)"
   ]
  },
  {
   "cell_type": "markdown",
   "metadata": {},
   "source": [
    "### 함수 안에서 함수 밖의 변수를 변경하는 방법"
   ]
  },
  {
   "cell_type": "code",
   "execution_count": 61,
   "metadata": {},
   "outputs": [
    {
     "name": "stdout",
     "output_type": "stream",
     "text": [
      "2\n",
      "2\n"
     ]
    }
   ],
   "source": [
    "# return 이용\n",
    "a=1\n",
    "def vartest(a):\n",
    "    a=a+1\n",
    "    return a\n",
    "\n",
    "a=vartest(a)\n",
    "print(a)\n",
    "\n",
    "# global 명령어 사용\n",
    "a=1\n",
    "def vartest():\n",
    "    global a\n",
    "    a=a+1\n",
    "\n",
    "vartest()\n",
    "print(a)"
   ]
  },
  {
   "cell_type": "markdown",
   "metadata": {},
   "source": [
    "### Function : ```lambda```"
   ]
  },
  {
   "cell_type": "code",
   "execution_count": 65,
   "metadata": {},
   "outputs": [
    {
     "name": "stdout",
     "output_type": "stream",
     "text": [
      "7\n",
      "7\n"
     ]
    }
   ],
   "source": [
    "# lambda는 def와 동일하며, 간단한 함수를 선언할 때 사용한다. lambda는 return 명령어가 필요없다.\n",
    "add = lambda a,b : a+b\n",
    "reuslt = add(3,4)\n",
    "print(reuslt)\n",
    "\n",
    "# def를 사용한다면 :\n",
    "def add(a,b):\n",
    "    return a+b\n",
    "result = add(3,4)\n",
    "print(result)"
   ]
  },
  {
   "cell_type": "markdown",
   "metadata": {},
   "source": [
    "## 04-2 사용자 입력과 출력"
   ]
  },
  {
   "cell_type": "markdown",
   "metadata": {},
   "source": [
    "### ```input```의 사용"
   ]
  },
  {
   "cell_type": "code",
   "execution_count": 70,
   "metadata": {},
   "outputs": [
    {
     "name": "stdout",
     "output_type": "stream",
     "text": [
      "1\n",
      "숫자를 입력하세요 :1\n"
     ]
    }
   ],
   "source": [
    "# 기본형\n",
    "a = input()\n",
    "\n",
    "# 문자열 추가\n",
    "b = input(\"숫자를 입력하세요 :\")"
   ]
  },
  {
   "cell_type": "markdown",
   "metadata": {},
   "source": [
    "### ```print``` 자세히 알기"
   ]
  },
  {
   "cell_type": "code",
   "execution_count": 74,
   "metadata": {},
   "outputs": [
    {
     "name": "stdout",
     "output_type": "stream",
     "text": [
      "123\n",
      "python\n",
      "[1, 2, 3]\n",
      "lifeistooshort\n",
      "lifeistooshort\n",
      "lfe is too short\n",
      "0 1 2 3 4 5 6 7 8 9 "
     ]
    }
   ],
   "source": [
    "# 숫자형\n",
    "a = 123\n",
    "print(a)\n",
    "\n",
    "# 문자열\n",
    "a = 'python'\n",
    "print(a)\n",
    "\n",
    "# list\n",
    "a = [1,2,3]\n",
    "print(a)\n",
    "\n",
    "# ''로 둘러싸인 문자열은 + 연산과 동일하다\n",
    "print('life''is''too''short')\n",
    "print('life'+'is'+'too'+'short')\n",
    "\n",
    "# 띄어쓰기는 콤마로\n",
    "print('lfe','is','too','short')\n",
    "\n",
    "# end 매개변수 사용\n",
    "for i in range(10):\n",
    "    print(i, end=' ')"
   ]
  },
  {
   "cell_type": "markdown",
   "metadata": {},
   "source": [
    "## 04-3 파일 읽고 쓰기"
   ]
  },
  {
   "cell_type": "markdown",
   "metadata": {},
   "source": [
    "### 파일 생성하기"
   ]
  },
  {
   "cell_type": "code",
   "execution_count": 1,
   "metadata": {},
   "outputs": [],
   "source": [
    "# open, close\n",
    "f = open('new.txt', 'w') # r:읽기, w:쓰기, a:추가하기\n",
    "f.close() #close 함수를 사용하지 않아도, python이 종료될 때 자동으로 종료되지만, 에러를 방지하기 위해 close를 사용해주는 것이 좋다.\n",
    "\n",
    "# open, write, close\n",
    "f = open('new.txt', 'w')\n",
    "for i in range(1,11):\n",
    "    data = f'{i}번째 중입니다.\\n'\n",
    "    f.write(data)\n",
    "f.close()"
   ]
  },
  {
   "cell_type": "markdown",
   "metadata": {},
   "source": [
    "### 프로그램의 외부에 저장된 파일을 읽는 여러 가지 방법"
   ]
  },
  {
   "cell_type": "code",
   "execution_count": 2,
   "metadata": {
    "scrolled": true
   },
   "outputs": [
    {
     "name": "stdout",
     "output_type": "stream",
     "text": [
      "1번째 중입니다.\n",
      "\n",
      "**************************************************\n",
      "1번째 중입니다.\n",
      "\n",
      "2번째 중입니다.\n",
      "\n",
      "3번째 중입니다.\n",
      "\n",
      "4번째 중입니다.\n",
      "\n",
      "5번째 중입니다.\n",
      "\n",
      "6번째 중입니다.\n",
      "\n",
      "7번째 중입니다.\n",
      "\n",
      "8번째 중입니다.\n",
      "\n",
      "9번째 중입니다.\n",
      "\n",
      "10번째 중입니다.\n",
      "\n",
      "**************************************************\n",
      "\n",
      "**************************************************\n",
      "1번째 중입니다.\n",
      "\n",
      "2번째 중입니다.\n",
      "\n",
      "3번째 중입니다.\n",
      "\n",
      "4번째 중입니다.\n",
      "\n",
      "5번째 중입니다.\n",
      "\n",
      "6번째 중입니다.\n",
      "\n",
      "7번째 중입니다.\n",
      "\n",
      "8번째 중입니다.\n",
      "\n",
      "9번째 중입니다.\n",
      "\n",
      "10번째 중입니다.\n",
      "\n",
      "**************************************************\n",
      "1번째 중입니다.\n",
      "2번째 중입니다.\n",
      "3번째 중입니다.\n",
      "4번째 중입니다.\n",
      "5번째 중입니다.\n",
      "6번째 중입니다.\n",
      "7번째 중입니다.\n",
      "8번째 중입니다.\n",
      "9번째 중입니다.\n",
      "10번째 중입니다.\n",
      "\n"
     ]
    }
   ],
   "source": [
    "# readline 한 줄을 읽어 송출\n",
    "f = open('new.txt', 'r')\n",
    "line = f.readline()\n",
    "print(line)\n",
    "f.close()\n",
    "print('*'*50)\n",
    "\n",
    "# readline2\n",
    "f = open('new.txt', 'r')\n",
    "while True:\n",
    "    line = f.readline()\n",
    "    if not line: break\n",
    "    print(line)\n",
    "f.close()\n",
    "print('*'*50)\n",
    "\n",
    "# Input \n",
    "while 1:\n",
    "    data = input()\n",
    "    if not data : break\n",
    "    print(data)\n",
    "print('*'*50)\n",
    "\n",
    "# readlines 모든 줄을 읽어 각각을 요소로 갖는 리스트로 환원\n",
    "f = open('new.txt', 'r')\n",
    "lines = f.readlines()\n",
    "for line in lines:\n",
    "    print(line)\n",
    "f.close()\n",
    "print('*'*50)\n",
    "\n",
    "# read 전체 내용 read\n",
    "f = open('new.txt', 'r')\n",
    "data = f.read()\n",
    "print(data)\n",
    "f.close()"
   ]
  },
  {
   "cell_type": "markdown",
   "metadata": {},
   "source": [
    "### 파일에 새로운 내용 추가하기"
   ]
  },
  {
   "cell_type": "code",
   "execution_count": 3,
   "metadata": {
    "scrolled": true
   },
   "outputs": [
    {
     "name": "stdout",
     "output_type": "stream",
     "text": [
      "1번째 중입니다.\n",
      "2번째 중입니다.\n",
      "3번째 중입니다.\n",
      "4번째 중입니다.\n",
      "5번째 중입니다.\n",
      "6번째 중입니다.\n",
      "7번째 중입니다.\n",
      "8번째 중입니다.\n",
      "9번째 중입니다.\n",
      "10번째 중입니다.\n",
      "11번째 줄입니다.\n",
      "12번째 줄입니다.\n",
      "13번째 줄입니다.\n",
      "14번째 줄입니다.\n",
      "15번째 줄입니다.\n",
      "16번째 줄입니다.\n",
      "17번째 줄입니다.\n",
      "18번째 줄입니다.\n",
      "19번째 줄입니다.\n",
      "\n"
     ]
    }
   ],
   "source": [
    "# write\n",
    "f = open('new.txt', 'a')\n",
    "for i in range(11,20):\n",
    "    data = f'{i}번째 줄입니다.\\n'\n",
    "    f.write(data)\n",
    "f.close()\n",
    "f = open('new.txt', 'r')\n",
    "data = f.read()\n",
    "print(data)\n",
    "f.close()"
   ]
  },
  {
   "cell_type": "markdown",
   "metadata": {},
   "source": [
    "### ```with``` 문과 함께 사용하기"
   ]
  },
  {
   "cell_type": "code",
   "execution_count": 4,
   "metadata": {},
   "outputs": [],
   "source": [
    "# write\n",
    "f = open('foo.txt', 'w')\n",
    "f.write('life is too short, you need pyhton')\n",
    "f.close()\n",
    "\n",
    "# with with를 사용하면 with 블록을 벗어나는 순간 파일 객체 f가 자동으로 close\n",
    "with open('foo_with.txt', 'w') as f:\n",
    "    f.write('Life is too short, you need python')\n"
   ]
  },
  {
   "cell_type": "markdown",
   "metadata": {},
   "source": [
    "### ```sys``` 모듈로 매개변수 주기"
   ]
  },
  {
   "cell_type": "code",
   "execution_count": 6,
   "metadata": {},
   "outputs": [
    {
     "name": "stdout",
     "output_type": "stream",
     "text": [
      "-f\n",
      "C:\\Users\\user\\AppData\\Roaming\\jupyter\\runtime\\kernel-ca52d18e-b980-4d58-a633-44e871b17c63.json\n"
     ]
    }
   ],
   "source": [
    "# sys1.py\n",
    "import sys\n",
    "\n",
    "args = sys.argv[1:]\n",
    "for i in args:\n",
    "    print(i)\n",
    "\n",
    "# sys2.py\n",
    "import sys\n",
    "args = sys.argv[1:]\n",
    "for i in args\n",
    "print(i. upper(), end=' ')\n",
    "\n",
    "# 사용 예 : \n",
    "# >>> python sys2.py life is too short, you need python\n",
    "# >>> LIFE IS TOO SHORT, YOU NEED PYTHON"
   ]
  },
  {
   "cell_type": "markdown",
   "metadata": {},
   "source": [
    "## 04장 연습문제"
   ]
  },
  {
   "cell_type": "code",
   "execution_count": 10,
   "metadata": {},
   "outputs": [
    {
     "name": "stdout",
     "output_type": "stream",
     "text": [
      "input number:2\n",
      "2 is even number\n"
     ]
    }
   ],
   "source": [
    "# Q1\n",
    "def is_odd(value):\n",
    "        value = int(input('input number:'))\n",
    "        if value % 2 == 0:\n",
    "            print(f'{value} is even number')\n",
    "        else:\n",
    "            print(f'{value} is odd number')\n",
    "is_odd(value)\n",
    "        "
   ]
  },
  {
   "cell_type": "code",
   "execution_count": 2,
   "metadata": {},
   "outputs": [
    {
     "name": "stdout",
     "output_type": "stream",
     "text": [
      "3.5\n"
     ]
    }
   ],
   "source": [
    "# Q2\n",
    "def mean_value(*args):\n",
    "    result = 0\n",
    "    for i in args:\n",
    "        result = result + i\n",
    "    result = result / len(args)\n",
    "    return result\n",
    "\n",
    "result = mean_value(2,3,4,5)\n",
    "print(result)"
   ]
  },
  {
   "cell_type": "code",
   "execution_count": 4,
   "metadata": {},
   "outputs": [
    {
     "name": "stdout",
     "output_type": "stream",
     "text": [
      "첫번째 숫자를 입력하세요:3\n",
      "두번째 숫자를 입력하세요:6\n",
      "두 수의 합은 36 입니다\n",
      "첫번째 숫자를 입력하세요:3\n",
      "두번째 숫자를 입력하세요:6\n",
      "두 수의 합은 9 입니다\n"
     ]
    }
   ],
   "source": [
    "# Q3 예시는 string으로 입력되어 36의 값이 나오는듯.\n",
    "input1 = input(\"첫번째 숫자를 입력하세요:\")\n",
    "input2 = input(\"두번째 숫자를 입력하세요:\")\n",
    "\n",
    "total = input1 + input2\n",
    "print(\"두 수의 합은 %s 입니다\" % total)\n",
    "\n",
    "input1 = int(input(\"첫번째 숫자를 입력하세요:\"))\n",
    "input2 = int(input(\"두번째 숫자를 입력하세요:\"))\n",
    "\n",
    "total = input1 + input2\n",
    "print(\"두 수의 합은 %s 입니다\" % total)"
   ]
  },
  {
   "cell_type": "code",
   "execution_count": 5,
   "metadata": {},
   "outputs": [
    {
     "name": "stdout",
     "output_type": "stream",
     "text": [
      "youneedpython\n",
      "youneedpython\n",
      "you need python\n",
      "youneedpython\n"
     ]
    }
   ],
   "source": [
    "# Q4 콤마는 띄어쓰기를 추가한다.\n",
    "\n",
    "print(\"you\" \"need\" \"python\")\n",
    "print(\"you\"+\"need\"+\"python\")\n",
    "print(\"you\", \"need\", \"python\")\n",
    "print(\"\".join([\"you\", \"need\", \"python\"]))"
   ]
  },
  {
   "cell_type": "code",
   "execution_count": 8,
   "metadata": {},
   "outputs": [
    {
     "name": "stdout",
     "output_type": "stream",
     "text": [
      "\n",
      "Life is too short\n"
     ]
    }
   ],
   "source": [
    "# Q5 close 필요\n",
    "f1 = open(\"test1.txt\", 'w')\n",
    "f1.write(\"Life is too short\")\n",
    "\n",
    "f2 = open(\"test1.txt\", 'r')\n",
    "print(f2.read())\n",
    "\n",
    "f1 = open(\"test2.txt\", 'w')\n",
    "f1.write(\"Life is too short\")\n",
    "f1.close()\n",
    "\n",
    "f2 = open(\"test2.txt\", 'r')\n",
    "print(f2.read())\n",
    "f2.close()"
   ]
  },
  {
   "cell_type": "code",
   "execution_count": null,
   "metadata": {},
   "outputs": [
    {
     "name": "stdout",
     "output_type": "stream",
     "text": [
      "Insert :1\n",
      "1 for write, 2 for close: 1\n",
      "Insert :hi2\n",
      "Insert :hi2\n"
     ]
    }
   ],
   "source": [
    "# Q6\n",
    "def test(data):\n",
    "    f = open('test.txt', 'w')\n",
    "    f.write(data)\n",
    "    f.close()\n",
    "\n",
    "def test2(data2):\n",
    "    f = open('test.txt', 'a')\n",
    "    f.write(data2)\n",
    "    f.close()\n",
    "\n",
    "data = input('Insert :')\n",
    "test(data)\n",
    "\n",
    "choice = int(input('1 for write, 2 for close: '))\n",
    "while choice == 1:\n",
    "    data2 = input('Insert :')\n",
    "    test2(data2)"
   ]
  },
  {
   "cell_type": "code",
   "execution_count": 6,
   "metadata": {},
   "outputs": [],
   "source": [
    "# Q7\n",
    "f = open('q7.txt','w')\n",
    "msg = 'Life is too short\\nyou need java'\n",
    "f.write(msg)\n",
    "f.close()\n",
    "\n",
    "msg = msg.replace('java', 'python')\n",
    "f = open('q7.txt','w')\n",
    "f.write(msg)\n",
    "f.close()"
   ]
  },
  {
   "cell_type": "code",
   "execution_count": null,
   "metadata": {},
   "outputs": [],
   "source": []
  }
 ],
 "metadata": {
  "kernelspec": {
   "display_name": "Python 3",
   "language": "python",
   "name": "python3"
  },
  "language_info": {
   "codemirror_mode": {
    "name": "ipython",
    "version": 3
   },
   "file_extension": ".py",
   "mimetype": "text/x-python",
   "name": "python",
   "nbconvert_exporter": "python",
   "pygments_lexer": "ipython3",
   "version": "3.8.5"
  }
 },
 "nbformat": 4,
 "nbformat_minor": 4
}
